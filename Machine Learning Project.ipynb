{
 "cells": [
  {
   "cell_type": "markdown",
   "id": "0ef14388",
   "metadata": {},
   "source": [
    "# Importing the libraries"
   ]
  },
  {
   "cell_type": "code",
   "execution_count": 1,
   "id": "88431761",
   "metadata": {},
   "outputs": [],
   "source": [
    "import math\n",
    "import pandas as pd\n",
    "import numpy as np\n",
    "import random\n",
    "import matplotlib.pyplot as plt\n",
    "import seaborn as sns\n",
    "from sklearn.preprocessing import LabelEncoder\n",
    "from sklearn.preprocessing import StandardScaler\n",
    "from sklearn.model_selection import train_test_split\n",
    "from sklearn.svm import SVC\n",
    "from sklearn.linear_model import LogisticRegression\n",
    "from sklearn.model_selection import GridSearchCV\n",
    "from sklearn.neighbors import KNeighborsClassifier\n",
    "from sklearn.naive_bayes import GaussianNB\n",
    "from sklearn.ensemble import RandomForestClassifier\n",
    "from tensorflow import keras\n",
    "from tensorflow.keras.models import Sequential\n",
    "from tensorflow.keras.layers import Dense\n",
    "from sklearn.metrics import confusion_matrix, precision_score, recall_score, f1_score, accuracy_score\n",
    "import warnings\n",
    "warnings.filterwarnings('ignore')"
   ]
  },
  {
   "cell_type": "markdown",
   "id": "82683888",
   "metadata": {},
   "source": [
    "# Importing the datasets"
   ]
  },
  {
   "cell_type": "markdown",
   "id": "e084e4fb",
   "metadata": {},
   "source": [
    "Training Dataset"
   ]
  },
  {
   "cell_type": "code",
   "execution_count": 2,
   "id": "faf01bb0",
   "metadata": {},
   "outputs": [
    {
     "data": {
      "text/html": [
       "<div>\n",
       "<style scoped>\n",
       "    .dataframe tbody tr th:only-of-type {\n",
       "        vertical-align: middle;\n",
       "    }\n",
       "\n",
       "    .dataframe tbody tr th {\n",
       "        vertical-align: top;\n",
       "    }\n",
       "\n",
       "    .dataframe thead th {\n",
       "        text-align: right;\n",
       "    }\n",
       "</style>\n",
       "<table border=\"1\" class=\"dataframe\">\n",
       "  <thead>\n",
       "    <tr style=\"text-align: right;\">\n",
       "      <th></th>\n",
       "      <th>PassengerId</th>\n",
       "      <th>Survived</th>\n",
       "      <th>Pclass</th>\n",
       "      <th>Name</th>\n",
       "      <th>Sex</th>\n",
       "      <th>Age</th>\n",
       "      <th>SibSp</th>\n",
       "      <th>Parch</th>\n",
       "      <th>Ticket</th>\n",
       "      <th>Fare</th>\n",
       "      <th>Cabin</th>\n",
       "      <th>Embarked</th>\n",
       "    </tr>\n",
       "  </thead>\n",
       "  <tbody>\n",
       "    <tr>\n",
       "      <th>0</th>\n",
       "      <td>1</td>\n",
       "      <td>0</td>\n",
       "      <td>3</td>\n",
       "      <td>Braund, Mr. Owen Harris</td>\n",
       "      <td>male</td>\n",
       "      <td>22.0</td>\n",
       "      <td>1</td>\n",
       "      <td>0</td>\n",
       "      <td>A/5 21171</td>\n",
       "      <td>7.2500</td>\n",
       "      <td>NaN</td>\n",
       "      <td>S</td>\n",
       "    </tr>\n",
       "    <tr>\n",
       "      <th>1</th>\n",
       "      <td>2</td>\n",
       "      <td>1</td>\n",
       "      <td>1</td>\n",
       "      <td>Cumings, Mrs. John Bradley (Florence Briggs Th...</td>\n",
       "      <td>female</td>\n",
       "      <td>38.0</td>\n",
       "      <td>1</td>\n",
       "      <td>0</td>\n",
       "      <td>PC 17599</td>\n",
       "      <td>71.2833</td>\n",
       "      <td>C85</td>\n",
       "      <td>C</td>\n",
       "    </tr>\n",
       "    <tr>\n",
       "      <th>2</th>\n",
       "      <td>3</td>\n",
       "      <td>1</td>\n",
       "      <td>3</td>\n",
       "      <td>Heikkinen, Miss. Laina</td>\n",
       "      <td>female</td>\n",
       "      <td>26.0</td>\n",
       "      <td>0</td>\n",
       "      <td>0</td>\n",
       "      <td>STON/O2. 3101282</td>\n",
       "      <td>7.9250</td>\n",
       "      <td>NaN</td>\n",
       "      <td>S</td>\n",
       "    </tr>\n",
       "    <tr>\n",
       "      <th>3</th>\n",
       "      <td>4</td>\n",
       "      <td>1</td>\n",
       "      <td>1</td>\n",
       "      <td>Futrelle, Mrs. Jacques Heath (Lily May Peel)</td>\n",
       "      <td>female</td>\n",
       "      <td>35.0</td>\n",
       "      <td>1</td>\n",
       "      <td>0</td>\n",
       "      <td>113803</td>\n",
       "      <td>53.1000</td>\n",
       "      <td>C123</td>\n",
       "      <td>S</td>\n",
       "    </tr>\n",
       "    <tr>\n",
       "      <th>4</th>\n",
       "      <td>5</td>\n",
       "      <td>0</td>\n",
       "      <td>3</td>\n",
       "      <td>Allen, Mr. William Henry</td>\n",
       "      <td>male</td>\n",
       "      <td>35.0</td>\n",
       "      <td>0</td>\n",
       "      <td>0</td>\n",
       "      <td>373450</td>\n",
       "      <td>8.0500</td>\n",
       "      <td>NaN</td>\n",
       "      <td>S</td>\n",
       "    </tr>\n",
       "  </tbody>\n",
       "</table>\n",
       "</div>"
      ],
      "text/plain": [
       "   PassengerId  Survived  Pclass  \\\n",
       "0            1         0       3   \n",
       "1            2         1       1   \n",
       "2            3         1       3   \n",
       "3            4         1       1   \n",
       "4            5         0       3   \n",
       "\n",
       "                                                Name     Sex   Age  SibSp  \\\n",
       "0                            Braund, Mr. Owen Harris    male  22.0      1   \n",
       "1  Cumings, Mrs. John Bradley (Florence Briggs Th...  female  38.0      1   \n",
       "2                             Heikkinen, Miss. Laina  female  26.0      0   \n",
       "3       Futrelle, Mrs. Jacques Heath (Lily May Peel)  female  35.0      1   \n",
       "4                           Allen, Mr. William Henry    male  35.0      0   \n",
       "\n",
       "   Parch            Ticket     Fare Cabin Embarked  \n",
       "0      0         A/5 21171   7.2500   NaN        S  \n",
       "1      0          PC 17599  71.2833   C85        C  \n",
       "2      0  STON/O2. 3101282   7.9250   NaN        S  \n",
       "3      0            113803  53.1000  C123        S  \n",
       "4      0            373450   8.0500   NaN        S  "
      ]
     },
     "execution_count": 2,
     "metadata": {},
     "output_type": "execute_result"
    }
   ],
   "source": [
    "dataset = pd.read_csv('./train.csv')\n",
    "dataset.head()"
   ]
  },
  {
   "cell_type": "markdown",
   "id": "f932043f",
   "metadata": {},
   "source": [
    "Testing Dataset"
   ]
  },
  {
   "cell_type": "code",
   "execution_count": 3,
   "id": "76d00706",
   "metadata": {},
   "outputs": [
    {
     "data": {
      "text/html": [
       "<div>\n",
       "<style scoped>\n",
       "    .dataframe tbody tr th:only-of-type {\n",
       "        vertical-align: middle;\n",
       "    }\n",
       "\n",
       "    .dataframe tbody tr th {\n",
       "        vertical-align: top;\n",
       "    }\n",
       "\n",
       "    .dataframe thead th {\n",
       "        text-align: right;\n",
       "    }\n",
       "</style>\n",
       "<table border=\"1\" class=\"dataframe\">\n",
       "  <thead>\n",
       "    <tr style=\"text-align: right;\">\n",
       "      <th></th>\n",
       "      <th>PassengerId</th>\n",
       "      <th>Pclass</th>\n",
       "      <th>Name</th>\n",
       "      <th>Sex</th>\n",
       "      <th>Age</th>\n",
       "      <th>SibSp</th>\n",
       "      <th>Parch</th>\n",
       "      <th>Ticket</th>\n",
       "      <th>Fare</th>\n",
       "      <th>Cabin</th>\n",
       "      <th>Embarked</th>\n",
       "    </tr>\n",
       "  </thead>\n",
       "  <tbody>\n",
       "    <tr>\n",
       "      <th>0</th>\n",
       "      <td>892</td>\n",
       "      <td>3</td>\n",
       "      <td>Kelly, Mr. James</td>\n",
       "      <td>male</td>\n",
       "      <td>34.5</td>\n",
       "      <td>0</td>\n",
       "      <td>0</td>\n",
       "      <td>330911</td>\n",
       "      <td>7.8292</td>\n",
       "      <td>NaN</td>\n",
       "      <td>Q</td>\n",
       "    </tr>\n",
       "    <tr>\n",
       "      <th>1</th>\n",
       "      <td>893</td>\n",
       "      <td>3</td>\n",
       "      <td>Wilkes, Mrs. James (Ellen Needs)</td>\n",
       "      <td>female</td>\n",
       "      <td>47.0</td>\n",
       "      <td>1</td>\n",
       "      <td>0</td>\n",
       "      <td>363272</td>\n",
       "      <td>7.0000</td>\n",
       "      <td>NaN</td>\n",
       "      <td>S</td>\n",
       "    </tr>\n",
       "    <tr>\n",
       "      <th>2</th>\n",
       "      <td>894</td>\n",
       "      <td>2</td>\n",
       "      <td>Myles, Mr. Thomas Francis</td>\n",
       "      <td>male</td>\n",
       "      <td>62.0</td>\n",
       "      <td>0</td>\n",
       "      <td>0</td>\n",
       "      <td>240276</td>\n",
       "      <td>9.6875</td>\n",
       "      <td>NaN</td>\n",
       "      <td>Q</td>\n",
       "    </tr>\n",
       "    <tr>\n",
       "      <th>3</th>\n",
       "      <td>895</td>\n",
       "      <td>3</td>\n",
       "      <td>Wirz, Mr. Albert</td>\n",
       "      <td>male</td>\n",
       "      <td>27.0</td>\n",
       "      <td>0</td>\n",
       "      <td>0</td>\n",
       "      <td>315154</td>\n",
       "      <td>8.6625</td>\n",
       "      <td>NaN</td>\n",
       "      <td>S</td>\n",
       "    </tr>\n",
       "    <tr>\n",
       "      <th>4</th>\n",
       "      <td>896</td>\n",
       "      <td>3</td>\n",
       "      <td>Hirvonen, Mrs. Alexander (Helga E Lindqvist)</td>\n",
       "      <td>female</td>\n",
       "      <td>22.0</td>\n",
       "      <td>1</td>\n",
       "      <td>1</td>\n",
       "      <td>3101298</td>\n",
       "      <td>12.2875</td>\n",
       "      <td>NaN</td>\n",
       "      <td>S</td>\n",
       "    </tr>\n",
       "  </tbody>\n",
       "</table>\n",
       "</div>"
      ],
      "text/plain": [
       "   PassengerId  Pclass                                          Name     Sex  \\\n",
       "0          892       3                              Kelly, Mr. James    male   \n",
       "1          893       3              Wilkes, Mrs. James (Ellen Needs)  female   \n",
       "2          894       2                     Myles, Mr. Thomas Francis    male   \n",
       "3          895       3                              Wirz, Mr. Albert    male   \n",
       "4          896       3  Hirvonen, Mrs. Alexander (Helga E Lindqvist)  female   \n",
       "\n",
       "    Age  SibSp  Parch   Ticket     Fare Cabin Embarked  \n",
       "0  34.5      0      0   330911   7.8292   NaN        Q  \n",
       "1  47.0      1      0   363272   7.0000   NaN        S  \n",
       "2  62.0      0      0   240276   9.6875   NaN        Q  \n",
       "3  27.0      0      0   315154   8.6625   NaN        S  \n",
       "4  22.0      1      1  3101298  12.2875   NaN        S  "
      ]
     },
     "execution_count": 3,
     "metadata": {},
     "output_type": "execute_result"
    }
   ],
   "source": [
    "dataset_test = pd.read_csv('./test.csv', low_memory=False)\n",
    "dataset_test.head()"
   ]
  },
  {
   "cell_type": "markdown",
   "id": "b27ab3c1",
   "metadata": {},
   "source": [
    "# Data Preprocessing"
   ]
  },
  {
   "cell_type": "markdown",
   "id": "d2271620",
   "metadata": {},
   "source": [
    "### Gaining Information from the dataset"
   ]
  },
  {
   "cell_type": "markdown",
   "id": "47f7f74c",
   "metadata": {},
   "source": [
    "This function helps us to know about the kind of values present in each column of the dataset as well as the number of null values in each column"
   ]
  },
  {
   "cell_type": "code",
   "execution_count": 4,
   "id": "c2f60475",
   "metadata": {},
   "outputs": [
    {
     "name": "stdout",
     "output_type": "stream",
     "text": [
      "<class 'pandas.core.frame.DataFrame'>\n",
      "RangeIndex: 891 entries, 0 to 890\n",
      "Data columns (total 12 columns):\n",
      " #   Column       Non-Null Count  Dtype  \n",
      "---  ------       --------------  -----  \n",
      " 0   PassengerId  891 non-null    int64  \n",
      " 1   Survived     891 non-null    int64  \n",
      " 2   Pclass       891 non-null    int64  \n",
      " 3   Name         891 non-null    object \n",
      " 4   Sex          891 non-null    object \n",
      " 5   Age          714 non-null    float64\n",
      " 6   SibSp        891 non-null    int64  \n",
      " 7   Parch        891 non-null    int64  \n",
      " 8   Ticket       891 non-null    object \n",
      " 9   Fare         891 non-null    float64\n",
      " 10  Cabin        204 non-null    object \n",
      " 11  Embarked     889 non-null    object \n",
      "dtypes: float64(2), int64(5), object(5)\n",
      "memory usage: 83.7+ KB\n"
     ]
    }
   ],
   "source": [
    "dataset.info()"
   ]
  },
  {
   "cell_type": "code",
   "execution_count": 5,
   "id": "f7e21b9e",
   "metadata": {},
   "outputs": [
    {
     "name": "stdout",
     "output_type": "stream",
     "text": [
      "<class 'pandas.core.frame.DataFrame'>\n",
      "RangeIndex: 418 entries, 0 to 417\n",
      "Data columns (total 11 columns):\n",
      " #   Column       Non-Null Count  Dtype  \n",
      "---  ------       --------------  -----  \n",
      " 0   PassengerId  418 non-null    int64  \n",
      " 1   Pclass       418 non-null    int64  \n",
      " 2   Name         418 non-null    object \n",
      " 3   Sex          418 non-null    object \n",
      " 4   Age          332 non-null    float64\n",
      " 5   SibSp        418 non-null    int64  \n",
      " 6   Parch        418 non-null    int64  \n",
      " 7   Ticket       418 non-null    object \n",
      " 8   Fare         417 non-null    float64\n",
      " 9   Cabin        91 non-null     object \n",
      " 10  Embarked     418 non-null    object \n",
      "dtypes: float64(2), int64(4), object(5)\n",
      "memory usage: 36.0+ KB\n"
     ]
    }
   ],
   "source": [
    "dataset_test.info()"
   ]
  },
  {
   "cell_type": "markdown",
   "id": "a1b21267",
   "metadata": {},
   "source": [
    "The correlation matrix helps us to know how values in each column is dependent on values of another columns. The positive values mean positive correlation and negative values mean negative correlation. The closer its value is to zero the more independent it is from the given column and the closer to 1 means highly dependent"
   ]
  },
  {
   "cell_type": "code",
   "execution_count": 6,
   "id": "96fc226a",
   "metadata": {},
   "outputs": [
    {
     "data": {
      "text/html": [
       "<div>\n",
       "<style scoped>\n",
       "    .dataframe tbody tr th:only-of-type {\n",
       "        vertical-align: middle;\n",
       "    }\n",
       "\n",
       "    .dataframe tbody tr th {\n",
       "        vertical-align: top;\n",
       "    }\n",
       "\n",
       "    .dataframe thead th {\n",
       "        text-align: right;\n",
       "    }\n",
       "</style>\n",
       "<table border=\"1\" class=\"dataframe\">\n",
       "  <thead>\n",
       "    <tr style=\"text-align: right;\">\n",
       "      <th></th>\n",
       "      <th>PassengerId</th>\n",
       "      <th>Survived</th>\n",
       "      <th>Pclass</th>\n",
       "      <th>Name</th>\n",
       "      <th>Sex</th>\n",
       "      <th>Age</th>\n",
       "      <th>SibSp</th>\n",
       "      <th>Parch</th>\n",
       "      <th>Ticket</th>\n",
       "      <th>Fare</th>\n",
       "      <th>Cabin</th>\n",
       "      <th>Embarked</th>\n",
       "    </tr>\n",
       "  </thead>\n",
       "  <tbody>\n",
       "    <tr>\n",
       "      <th>PassengerId</th>\n",
       "      <td>1.000000</td>\n",
       "      <td>-0.005007</td>\n",
       "      <td>0.018305</td>\n",
       "      <td>1.000000</td>\n",
       "      <td>-0.042939</td>\n",
       "      <td>0.120150</td>\n",
       "      <td>-0.031023</td>\n",
       "      <td>0.001206</td>\n",
       "      <td>0.760875</td>\n",
       "      <td>0.299982</td>\n",
       "      <td>0.241918</td>\n",
       "      <td>-0.030323</td>\n",
       "    </tr>\n",
       "    <tr>\n",
       "      <th>Survived</th>\n",
       "      <td>-0.005007</td>\n",
       "      <td>1.000000</td>\n",
       "      <td>0.247845</td>\n",
       "      <td>-0.005007</td>\n",
       "      <td>0.543351</td>\n",
       "      <td>0.042743</td>\n",
       "      <td>-0.136302</td>\n",
       "      <td>0.086210</td>\n",
       "      <td>-0.047298</td>\n",
       "      <td>0.191981</td>\n",
       "      <td>0.270495</td>\n",
       "      <td>0.101849</td>\n",
       "    </tr>\n",
       "    <tr>\n",
       "      <th>Pclass</th>\n",
       "      <td>0.018305</td>\n",
       "      <td>0.247845</td>\n",
       "      <td>1.000000</td>\n",
       "      <td>0.018305</td>\n",
       "      <td>0.118133</td>\n",
       "      <td>0.180735</td>\n",
       "      <td>-0.149630</td>\n",
       "      <td>-0.000343</td>\n",
       "      <td>0.020431</td>\n",
       "      <td>0.079498</td>\n",
       "      <td>0.187437</td>\n",
       "      <td>-0.168809</td>\n",
       "    </tr>\n",
       "    <tr>\n",
       "      <th>Name</th>\n",
       "      <td>1.000000</td>\n",
       "      <td>-0.005007</td>\n",
       "      <td>0.018305</td>\n",
       "      <td>1.000000</td>\n",
       "      <td>-0.042939</td>\n",
       "      <td>0.120150</td>\n",
       "      <td>-0.031023</td>\n",
       "      <td>0.001206</td>\n",
       "      <td>0.760875</td>\n",
       "      <td>0.299982</td>\n",
       "      <td>0.241918</td>\n",
       "      <td>-0.030323</td>\n",
       "    </tr>\n",
       "    <tr>\n",
       "      <th>Sex</th>\n",
       "      <td>-0.042939</td>\n",
       "      <td>0.543351</td>\n",
       "      <td>0.118133</td>\n",
       "      <td>-0.042939</td>\n",
       "      <td>1.000000</td>\n",
       "      <td>0.009117</td>\n",
       "      <td>-0.046152</td>\n",
       "      <td>0.242417</td>\n",
       "      <td>-0.132709</td>\n",
       "      <td>0.137725</td>\n",
       "      <td>0.082104</td>\n",
       "      <td>0.111249</td>\n",
       "    </tr>\n",
       "    <tr>\n",
       "      <th>Age</th>\n",
       "      <td>0.120150</td>\n",
       "      <td>0.042743</td>\n",
       "      <td>0.180735</td>\n",
       "      <td>0.120150</td>\n",
       "      <td>0.009117</td>\n",
       "      <td>1.000000</td>\n",
       "      <td>0.003777</td>\n",
       "      <td>0.136160</td>\n",
       "      <td>0.070385</td>\n",
       "      <td>0.114674</td>\n",
       "      <td>0.165159</td>\n",
       "      <td>-0.152716</td>\n",
       "    </tr>\n",
       "    <tr>\n",
       "      <th>SibSp</th>\n",
       "      <td>-0.031023</td>\n",
       "      <td>-0.136302</td>\n",
       "      <td>-0.149630</td>\n",
       "      <td>-0.031023</td>\n",
       "      <td>-0.046152</td>\n",
       "      <td>0.003777</td>\n",
       "      <td>1.000000</td>\n",
       "      <td>0.165255</td>\n",
       "      <td>-0.122426</td>\n",
       "      <td>-0.046556</td>\n",
       "      <td>-0.108709</td>\n",
       "      <td>-0.030612</td>\n",
       "    </tr>\n",
       "    <tr>\n",
       "      <th>Parch</th>\n",
       "      <td>0.001206</td>\n",
       "      <td>0.086210</td>\n",
       "      <td>-0.000343</td>\n",
       "      <td>0.001206</td>\n",
       "      <td>0.242417</td>\n",
       "      <td>0.136160</td>\n",
       "      <td>0.165255</td>\n",
       "      <td>1.000000</td>\n",
       "      <td>-0.262607</td>\n",
       "      <td>0.074306</td>\n",
       "      <td>-0.002761</td>\n",
       "      <td>-0.082982</td>\n",
       "    </tr>\n",
       "    <tr>\n",
       "      <th>Ticket</th>\n",
       "      <td>0.760875</td>\n",
       "      <td>-0.047298</td>\n",
       "      <td>0.020431</td>\n",
       "      <td>0.760875</td>\n",
       "      <td>-0.132709</td>\n",
       "      <td>0.070385</td>\n",
       "      <td>-0.122426</td>\n",
       "      <td>-0.262607</td>\n",
       "      <td>1.000000</td>\n",
       "      <td>0.303257</td>\n",
       "      <td>0.212438</td>\n",
       "      <td>-0.020135</td>\n",
       "    </tr>\n",
       "    <tr>\n",
       "      <th>Fare</th>\n",
       "      <td>0.299982</td>\n",
       "      <td>0.191981</td>\n",
       "      <td>0.079498</td>\n",
       "      <td>0.299982</td>\n",
       "      <td>0.137725</td>\n",
       "      <td>0.114674</td>\n",
       "      <td>-0.046556</td>\n",
       "      <td>0.074306</td>\n",
       "      <td>0.303257</td>\n",
       "      <td>1.000000</td>\n",
       "      <td>0.379659</td>\n",
       "      <td>0.077933</td>\n",
       "    </tr>\n",
       "    <tr>\n",
       "      <th>Cabin</th>\n",
       "      <td>0.241918</td>\n",
       "      <td>0.270495</td>\n",
       "      <td>0.187437</td>\n",
       "      <td>0.241918</td>\n",
       "      <td>0.082104</td>\n",
       "      <td>0.165159</td>\n",
       "      <td>-0.108709</td>\n",
       "      <td>-0.002761</td>\n",
       "      <td>0.212438</td>\n",
       "      <td>0.379659</td>\n",
       "      <td>1.000000</td>\n",
       "      <td>0.017855</td>\n",
       "    </tr>\n",
       "    <tr>\n",
       "      <th>Embarked</th>\n",
       "      <td>-0.030323</td>\n",
       "      <td>0.101849</td>\n",
       "      <td>-0.168809</td>\n",
       "      <td>-0.030323</td>\n",
       "      <td>0.111249</td>\n",
       "      <td>-0.152716</td>\n",
       "      <td>-0.030612</td>\n",
       "      <td>-0.082982</td>\n",
       "      <td>-0.020135</td>\n",
       "      <td>0.077933</td>\n",
       "      <td>0.017855</td>\n",
       "      <td>1.000000</td>\n",
       "    </tr>\n",
       "  </tbody>\n",
       "</table>\n",
       "</div>"
      ],
      "text/plain": [
       "             PassengerId  Survived    Pclass      Name       Sex       Age  \\\n",
       "PassengerId     1.000000 -0.005007  0.018305  1.000000 -0.042939  0.120150   \n",
       "Survived       -0.005007  1.000000  0.247845 -0.005007  0.543351  0.042743   \n",
       "Pclass          0.018305  0.247845  1.000000  0.018305  0.118133  0.180735   \n",
       "Name            1.000000 -0.005007  0.018305  1.000000 -0.042939  0.120150   \n",
       "Sex            -0.042939  0.543351  0.118133 -0.042939  1.000000  0.009117   \n",
       "Age             0.120150  0.042743  0.180735  0.120150  0.009117  1.000000   \n",
       "SibSp          -0.031023 -0.136302 -0.149630 -0.031023 -0.046152  0.003777   \n",
       "Parch           0.001206  0.086210 -0.000343  0.001206  0.242417  0.136160   \n",
       "Ticket          0.760875 -0.047298  0.020431  0.760875 -0.132709  0.070385   \n",
       "Fare            0.299982  0.191981  0.079498  0.299982  0.137725  0.114674   \n",
       "Cabin           0.241918  0.270495  0.187437  0.241918  0.082104  0.165159   \n",
       "Embarked       -0.030323  0.101849 -0.168809 -0.030323  0.111249 -0.152716   \n",
       "\n",
       "                SibSp     Parch    Ticket      Fare     Cabin  Embarked  \n",
       "PassengerId -0.031023  0.001206  0.760875  0.299982  0.241918 -0.030323  \n",
       "Survived    -0.136302  0.086210 -0.047298  0.191981  0.270495  0.101849  \n",
       "Pclass      -0.149630 -0.000343  0.020431  0.079498  0.187437 -0.168809  \n",
       "Name        -0.031023  0.001206  0.760875  0.299982  0.241918 -0.030323  \n",
       "Sex         -0.046152  0.242417 -0.132709  0.137725  0.082104  0.111249  \n",
       "Age          0.003777  0.136160  0.070385  0.114674  0.165159 -0.152716  \n",
       "SibSp        1.000000  0.165255 -0.122426 -0.046556 -0.108709 -0.030612  \n",
       "Parch        0.165255  1.000000 -0.262607  0.074306 -0.002761 -0.082982  \n",
       "Ticket      -0.122426 -0.262607  1.000000  0.303257  0.212438 -0.020135  \n",
       "Fare        -0.046556  0.074306  0.303257  1.000000  0.379659  0.077933  \n",
       "Cabin       -0.108709 -0.002761  0.212438  0.379659  1.000000  0.017855  \n",
       "Embarked    -0.030612 -0.082982 -0.020135  0.077933  0.017855  1.000000  "
      ]
     },
     "execution_count": 6,
     "metadata": {},
     "output_type": "execute_result"
    }
   ],
   "source": [
    "dataset.apply(lambda x : pd.factorize(x)[0]).corr()"
   ]
  },
  {
   "cell_type": "code",
   "execution_count": 7,
   "id": "d909dd8e",
   "metadata": {},
   "outputs": [
    {
     "data": {
      "text/html": [
       "<div>\n",
       "<style scoped>\n",
       "    .dataframe tbody tr th:only-of-type {\n",
       "        vertical-align: middle;\n",
       "    }\n",
       "\n",
       "    .dataframe tbody tr th {\n",
       "        vertical-align: top;\n",
       "    }\n",
       "\n",
       "    .dataframe thead th {\n",
       "        text-align: right;\n",
       "    }\n",
       "</style>\n",
       "<table border=\"1\" class=\"dataframe\">\n",
       "  <thead>\n",
       "    <tr style=\"text-align: right;\">\n",
       "      <th></th>\n",
       "      <th>PassengerId</th>\n",
       "      <th>Pclass</th>\n",
       "      <th>Name</th>\n",
       "      <th>Sex</th>\n",
       "      <th>Age</th>\n",
       "      <th>SibSp</th>\n",
       "      <th>Parch</th>\n",
       "      <th>Ticket</th>\n",
       "      <th>Fare</th>\n",
       "      <th>Cabin</th>\n",
       "      <th>Embarked</th>\n",
       "    </tr>\n",
       "  </thead>\n",
       "  <tbody>\n",
       "    <tr>\n",
       "      <th>PassengerId</th>\n",
       "      <td>1.000000</td>\n",
       "      <td>0.026751</td>\n",
       "      <td>1.000000</td>\n",
       "      <td>-0.023245</td>\n",
       "      <td>0.170140</td>\n",
       "      <td>-0.002157</td>\n",
       "      <td>0.040256</td>\n",
       "      <td>0.877124</td>\n",
       "      <td>0.443555</td>\n",
       "      <td>0.231404</td>\n",
       "      <td>-0.001026</td>\n",
       "    </tr>\n",
       "    <tr>\n",
       "      <th>Pclass</th>\n",
       "      <td>0.026751</td>\n",
       "      <td>1.000000</td>\n",
       "      <td>0.026751</td>\n",
       "      <td>0.108615</td>\n",
       "      <td>0.173403</td>\n",
       "      <td>0.008977</td>\n",
       "      <td>-0.025732</td>\n",
       "      <td>-0.024305</td>\n",
       "      <td>0.174918</td>\n",
       "      <td>0.554753</td>\n",
       "      <td>0.372344</td>\n",
       "    </tr>\n",
       "    <tr>\n",
       "      <th>Name</th>\n",
       "      <td>1.000000</td>\n",
       "      <td>0.026751</td>\n",
       "      <td>1.000000</td>\n",
       "      <td>-0.023245</td>\n",
       "      <td>0.170140</td>\n",
       "      <td>-0.002157</td>\n",
       "      <td>0.040256</td>\n",
       "      <td>0.877124</td>\n",
       "      <td>0.443555</td>\n",
       "      <td>0.231404</td>\n",
       "      <td>-0.001026</td>\n",
       "    </tr>\n",
       "    <tr>\n",
       "      <th>Sex</th>\n",
       "      <td>-0.023245</td>\n",
       "      <td>0.108615</td>\n",
       "      <td>-0.023245</td>\n",
       "      <td>1.000000</td>\n",
       "      <td>0.035129</td>\n",
       "      <td>0.105519</td>\n",
       "      <td>0.178626</td>\n",
       "      <td>-0.064568</td>\n",
       "      <td>0.087049</td>\n",
       "      <td>0.083616</td>\n",
       "      <td>-0.037432</td>\n",
       "    </tr>\n",
       "    <tr>\n",
       "      <th>Age</th>\n",
       "      <td>0.170140</td>\n",
       "      <td>0.173403</td>\n",
       "      <td>0.170140</td>\n",
       "      <td>0.035129</td>\n",
       "      <td>1.000000</td>\n",
       "      <td>0.211509</td>\n",
       "      <td>0.215584</td>\n",
       "      <td>0.131836</td>\n",
       "      <td>0.174033</td>\n",
       "      <td>0.144595</td>\n",
       "      <td>0.114690</td>\n",
       "    </tr>\n",
       "    <tr>\n",
       "      <th>SibSp</th>\n",
       "      <td>-0.002157</td>\n",
       "      <td>0.008977</td>\n",
       "      <td>-0.002157</td>\n",
       "      <td>0.105519</td>\n",
       "      <td>0.211509</td>\n",
       "      <td>1.000000</td>\n",
       "      <td>0.371468</td>\n",
       "      <td>-0.120646</td>\n",
       "      <td>0.115487</td>\n",
       "      <td>0.018469</td>\n",
       "      <td>0.047569</td>\n",
       "    </tr>\n",
       "    <tr>\n",
       "      <th>Parch</th>\n",
       "      <td>0.040256</td>\n",
       "      <td>-0.025732</td>\n",
       "      <td>0.040256</td>\n",
       "      <td>0.178626</td>\n",
       "      <td>0.215584</td>\n",
       "      <td>0.371468</td>\n",
       "      <td>1.000000</td>\n",
       "      <td>-0.074875</td>\n",
       "      <td>0.183114</td>\n",
       "      <td>-0.009085</td>\n",
       "      <td>0.064688</td>\n",
       "    </tr>\n",
       "    <tr>\n",
       "      <th>Ticket</th>\n",
       "      <td>0.877124</td>\n",
       "      <td>-0.024305</td>\n",
       "      <td>0.877124</td>\n",
       "      <td>-0.064568</td>\n",
       "      <td>0.131836</td>\n",
       "      <td>-0.120646</td>\n",
       "      <td>-0.074875</td>\n",
       "      <td>1.000000</td>\n",
       "      <td>0.456125</td>\n",
       "      <td>0.203992</td>\n",
       "      <td>-0.039048</td>\n",
       "    </tr>\n",
       "    <tr>\n",
       "      <th>Fare</th>\n",
       "      <td>0.443555</td>\n",
       "      <td>0.174918</td>\n",
       "      <td>0.443555</td>\n",
       "      <td>0.087049</td>\n",
       "      <td>0.174033</td>\n",
       "      <td>0.115487</td>\n",
       "      <td>0.183114</td>\n",
       "      <td>0.456125</td>\n",
       "      <td>1.000000</td>\n",
       "      <td>0.290890</td>\n",
       "      <td>0.041337</td>\n",
       "    </tr>\n",
       "    <tr>\n",
       "      <th>Cabin</th>\n",
       "      <td>0.231404</td>\n",
       "      <td>0.554753</td>\n",
       "      <td>0.231404</td>\n",
       "      <td>0.083616</td>\n",
       "      <td>0.144595</td>\n",
       "      <td>0.018469</td>\n",
       "      <td>-0.009085</td>\n",
       "      <td>0.203992</td>\n",
       "      <td>0.290890</td>\n",
       "      <td>1.000000</td>\n",
       "      <td>0.325097</td>\n",
       "    </tr>\n",
       "    <tr>\n",
       "      <th>Embarked</th>\n",
       "      <td>-0.001026</td>\n",
       "      <td>0.372344</td>\n",
       "      <td>-0.001026</td>\n",
       "      <td>-0.037432</td>\n",
       "      <td>0.114690</td>\n",
       "      <td>0.047569</td>\n",
       "      <td>0.064688</td>\n",
       "      <td>-0.039048</td>\n",
       "      <td>0.041337</td>\n",
       "      <td>0.325097</td>\n",
       "      <td>1.000000</td>\n",
       "    </tr>\n",
       "  </tbody>\n",
       "</table>\n",
       "</div>"
      ],
      "text/plain": [
       "             PassengerId    Pclass      Name       Sex       Age     SibSp  \\\n",
       "PassengerId     1.000000  0.026751  1.000000 -0.023245  0.170140 -0.002157   \n",
       "Pclass          0.026751  1.000000  0.026751  0.108615  0.173403  0.008977   \n",
       "Name            1.000000  0.026751  1.000000 -0.023245  0.170140 -0.002157   \n",
       "Sex            -0.023245  0.108615 -0.023245  1.000000  0.035129  0.105519   \n",
       "Age             0.170140  0.173403  0.170140  0.035129  1.000000  0.211509   \n",
       "SibSp          -0.002157  0.008977 -0.002157  0.105519  0.211509  1.000000   \n",
       "Parch           0.040256 -0.025732  0.040256  0.178626  0.215584  0.371468   \n",
       "Ticket          0.877124 -0.024305  0.877124 -0.064568  0.131836 -0.120646   \n",
       "Fare            0.443555  0.174918  0.443555  0.087049  0.174033  0.115487   \n",
       "Cabin           0.231404  0.554753  0.231404  0.083616  0.144595  0.018469   \n",
       "Embarked       -0.001026  0.372344 -0.001026 -0.037432  0.114690  0.047569   \n",
       "\n",
       "                Parch    Ticket      Fare     Cabin  Embarked  \n",
       "PassengerId  0.040256  0.877124  0.443555  0.231404 -0.001026  \n",
       "Pclass      -0.025732 -0.024305  0.174918  0.554753  0.372344  \n",
       "Name         0.040256  0.877124  0.443555  0.231404 -0.001026  \n",
       "Sex          0.178626 -0.064568  0.087049  0.083616 -0.037432  \n",
       "Age          0.215584  0.131836  0.174033  0.144595  0.114690  \n",
       "SibSp        0.371468 -0.120646  0.115487  0.018469  0.047569  \n",
       "Parch        1.000000 -0.074875  0.183114 -0.009085  0.064688  \n",
       "Ticket      -0.074875  1.000000  0.456125  0.203992 -0.039048  \n",
       "Fare         0.183114  0.456125  1.000000  0.290890  0.041337  \n",
       "Cabin       -0.009085  0.203992  0.290890  1.000000  0.325097  \n",
       "Embarked     0.064688 -0.039048  0.041337  0.325097  1.000000  "
      ]
     },
     "execution_count": 7,
     "metadata": {},
     "output_type": "execute_result"
    }
   ],
   "source": [
    "dataset_test.apply(lambda x : pd.factorize(x)[0]).corr()"
   ]
  },
  {
   "cell_type": "markdown",
   "id": "80be91aa",
   "metadata": {},
   "source": [
    "Describing the distribution of values for numerical data columns"
   ]
  },
  {
   "cell_type": "code",
   "execution_count": 8,
   "id": "86dc83cf",
   "metadata": {},
   "outputs": [
    {
     "data": {
      "text/html": [
       "<div>\n",
       "<style scoped>\n",
       "    .dataframe tbody tr th:only-of-type {\n",
       "        vertical-align: middle;\n",
       "    }\n",
       "\n",
       "    .dataframe tbody tr th {\n",
       "        vertical-align: top;\n",
       "    }\n",
       "\n",
       "    .dataframe thead th {\n",
       "        text-align: right;\n",
       "    }\n",
       "</style>\n",
       "<table border=\"1\" class=\"dataframe\">\n",
       "  <thead>\n",
       "    <tr style=\"text-align: right;\">\n",
       "      <th></th>\n",
       "      <th>PassengerId</th>\n",
       "      <th>Survived</th>\n",
       "      <th>Pclass</th>\n",
       "      <th>Age</th>\n",
       "      <th>SibSp</th>\n",
       "      <th>Parch</th>\n",
       "      <th>Fare</th>\n",
       "    </tr>\n",
       "  </thead>\n",
       "  <tbody>\n",
       "    <tr>\n",
       "      <th>count</th>\n",
       "      <td>891.000000</td>\n",
       "      <td>891.000000</td>\n",
       "      <td>891.000000</td>\n",
       "      <td>714.000000</td>\n",
       "      <td>891.000000</td>\n",
       "      <td>891.000000</td>\n",
       "      <td>891.000000</td>\n",
       "    </tr>\n",
       "    <tr>\n",
       "      <th>mean</th>\n",
       "      <td>446.000000</td>\n",
       "      <td>0.383838</td>\n",
       "      <td>2.308642</td>\n",
       "      <td>29.699118</td>\n",
       "      <td>0.523008</td>\n",
       "      <td>0.381594</td>\n",
       "      <td>32.204208</td>\n",
       "    </tr>\n",
       "    <tr>\n",
       "      <th>std</th>\n",
       "      <td>257.353842</td>\n",
       "      <td>0.486592</td>\n",
       "      <td>0.836071</td>\n",
       "      <td>14.526497</td>\n",
       "      <td>1.102743</td>\n",
       "      <td>0.806057</td>\n",
       "      <td>49.693429</td>\n",
       "    </tr>\n",
       "    <tr>\n",
       "      <th>min</th>\n",
       "      <td>1.000000</td>\n",
       "      <td>0.000000</td>\n",
       "      <td>1.000000</td>\n",
       "      <td>0.420000</td>\n",
       "      <td>0.000000</td>\n",
       "      <td>0.000000</td>\n",
       "      <td>0.000000</td>\n",
       "    </tr>\n",
       "    <tr>\n",
       "      <th>25%</th>\n",
       "      <td>223.500000</td>\n",
       "      <td>0.000000</td>\n",
       "      <td>2.000000</td>\n",
       "      <td>20.125000</td>\n",
       "      <td>0.000000</td>\n",
       "      <td>0.000000</td>\n",
       "      <td>7.910400</td>\n",
       "    </tr>\n",
       "    <tr>\n",
       "      <th>50%</th>\n",
       "      <td>446.000000</td>\n",
       "      <td>0.000000</td>\n",
       "      <td>3.000000</td>\n",
       "      <td>28.000000</td>\n",
       "      <td>0.000000</td>\n",
       "      <td>0.000000</td>\n",
       "      <td>14.454200</td>\n",
       "    </tr>\n",
       "    <tr>\n",
       "      <th>75%</th>\n",
       "      <td>668.500000</td>\n",
       "      <td>1.000000</td>\n",
       "      <td>3.000000</td>\n",
       "      <td>38.000000</td>\n",
       "      <td>1.000000</td>\n",
       "      <td>0.000000</td>\n",
       "      <td>31.000000</td>\n",
       "    </tr>\n",
       "    <tr>\n",
       "      <th>max</th>\n",
       "      <td>891.000000</td>\n",
       "      <td>1.000000</td>\n",
       "      <td>3.000000</td>\n",
       "      <td>80.000000</td>\n",
       "      <td>8.000000</td>\n",
       "      <td>6.000000</td>\n",
       "      <td>512.329200</td>\n",
       "    </tr>\n",
       "  </tbody>\n",
       "</table>\n",
       "</div>"
      ],
      "text/plain": [
       "       PassengerId    Survived      Pclass         Age       SibSp  \\\n",
       "count   891.000000  891.000000  891.000000  714.000000  891.000000   \n",
       "mean    446.000000    0.383838    2.308642   29.699118    0.523008   \n",
       "std     257.353842    0.486592    0.836071   14.526497    1.102743   \n",
       "min       1.000000    0.000000    1.000000    0.420000    0.000000   \n",
       "25%     223.500000    0.000000    2.000000   20.125000    0.000000   \n",
       "50%     446.000000    0.000000    3.000000   28.000000    0.000000   \n",
       "75%     668.500000    1.000000    3.000000   38.000000    1.000000   \n",
       "max     891.000000    1.000000    3.000000   80.000000    8.000000   \n",
       "\n",
       "            Parch        Fare  \n",
       "count  891.000000  891.000000  \n",
       "mean     0.381594   32.204208  \n",
       "std      0.806057   49.693429  \n",
       "min      0.000000    0.000000  \n",
       "25%      0.000000    7.910400  \n",
       "50%      0.000000   14.454200  \n",
       "75%      0.000000   31.000000  \n",
       "max      6.000000  512.329200  "
      ]
     },
     "execution_count": 8,
     "metadata": {},
     "output_type": "execute_result"
    }
   ],
   "source": [
    "dataset.describe()"
   ]
  },
  {
   "cell_type": "code",
   "execution_count": 9,
   "id": "13149ed2",
   "metadata": {},
   "outputs": [
    {
     "data": {
      "text/html": [
       "<div>\n",
       "<style scoped>\n",
       "    .dataframe tbody tr th:only-of-type {\n",
       "        vertical-align: middle;\n",
       "    }\n",
       "\n",
       "    .dataframe tbody tr th {\n",
       "        vertical-align: top;\n",
       "    }\n",
       "\n",
       "    .dataframe thead th {\n",
       "        text-align: right;\n",
       "    }\n",
       "</style>\n",
       "<table border=\"1\" class=\"dataframe\">\n",
       "  <thead>\n",
       "    <tr style=\"text-align: right;\">\n",
       "      <th></th>\n",
       "      <th>PassengerId</th>\n",
       "      <th>Pclass</th>\n",
       "      <th>Age</th>\n",
       "      <th>SibSp</th>\n",
       "      <th>Parch</th>\n",
       "      <th>Fare</th>\n",
       "    </tr>\n",
       "  </thead>\n",
       "  <tbody>\n",
       "    <tr>\n",
       "      <th>count</th>\n",
       "      <td>418.000000</td>\n",
       "      <td>418.000000</td>\n",
       "      <td>332.000000</td>\n",
       "      <td>418.000000</td>\n",
       "      <td>418.000000</td>\n",
       "      <td>417.000000</td>\n",
       "    </tr>\n",
       "    <tr>\n",
       "      <th>mean</th>\n",
       "      <td>1100.500000</td>\n",
       "      <td>2.265550</td>\n",
       "      <td>30.272590</td>\n",
       "      <td>0.447368</td>\n",
       "      <td>0.392344</td>\n",
       "      <td>35.627188</td>\n",
       "    </tr>\n",
       "    <tr>\n",
       "      <th>std</th>\n",
       "      <td>120.810458</td>\n",
       "      <td>0.841838</td>\n",
       "      <td>14.181209</td>\n",
       "      <td>0.896760</td>\n",
       "      <td>0.981429</td>\n",
       "      <td>55.907576</td>\n",
       "    </tr>\n",
       "    <tr>\n",
       "      <th>min</th>\n",
       "      <td>892.000000</td>\n",
       "      <td>1.000000</td>\n",
       "      <td>0.170000</td>\n",
       "      <td>0.000000</td>\n",
       "      <td>0.000000</td>\n",
       "      <td>0.000000</td>\n",
       "    </tr>\n",
       "    <tr>\n",
       "      <th>25%</th>\n",
       "      <td>996.250000</td>\n",
       "      <td>1.000000</td>\n",
       "      <td>21.000000</td>\n",
       "      <td>0.000000</td>\n",
       "      <td>0.000000</td>\n",
       "      <td>7.895800</td>\n",
       "    </tr>\n",
       "    <tr>\n",
       "      <th>50%</th>\n",
       "      <td>1100.500000</td>\n",
       "      <td>3.000000</td>\n",
       "      <td>27.000000</td>\n",
       "      <td>0.000000</td>\n",
       "      <td>0.000000</td>\n",
       "      <td>14.454200</td>\n",
       "    </tr>\n",
       "    <tr>\n",
       "      <th>75%</th>\n",
       "      <td>1204.750000</td>\n",
       "      <td>3.000000</td>\n",
       "      <td>39.000000</td>\n",
       "      <td>1.000000</td>\n",
       "      <td>0.000000</td>\n",
       "      <td>31.500000</td>\n",
       "    </tr>\n",
       "    <tr>\n",
       "      <th>max</th>\n",
       "      <td>1309.000000</td>\n",
       "      <td>3.000000</td>\n",
       "      <td>76.000000</td>\n",
       "      <td>8.000000</td>\n",
       "      <td>9.000000</td>\n",
       "      <td>512.329200</td>\n",
       "    </tr>\n",
       "  </tbody>\n",
       "</table>\n",
       "</div>"
      ],
      "text/plain": [
       "       PassengerId      Pclass         Age       SibSp       Parch        Fare\n",
       "count   418.000000  418.000000  332.000000  418.000000  418.000000  417.000000\n",
       "mean   1100.500000    2.265550   30.272590    0.447368    0.392344   35.627188\n",
       "std     120.810458    0.841838   14.181209    0.896760    0.981429   55.907576\n",
       "min     892.000000    1.000000    0.170000    0.000000    0.000000    0.000000\n",
       "25%     996.250000    1.000000   21.000000    0.000000    0.000000    7.895800\n",
       "50%    1100.500000    3.000000   27.000000    0.000000    0.000000   14.454200\n",
       "75%    1204.750000    3.000000   39.000000    1.000000    0.000000   31.500000\n",
       "max    1309.000000    3.000000   76.000000    8.000000    9.000000  512.329200"
      ]
     },
     "execution_count": 9,
     "metadata": {},
     "output_type": "execute_result"
    }
   ],
   "source": [
    "dataset_test.describe()"
   ]
  },
  {
   "cell_type": "markdown",
   "id": "5f9f5d12",
   "metadata": {},
   "source": [
    "### Removing Null values"
   ]
  },
  {
   "cell_type": "markdown",
   "id": "8b305a46",
   "metadata": {},
   "source": [
    "Null values in Age is replaced by average age of training dataset. This is done to ensure that we make our model totally dependent on values of the training dataset."
   ]
  },
  {
   "cell_type": "code",
   "execution_count": 11,
   "id": "683b57a5",
   "metadata": {},
   "outputs": [
    {
     "data": {
      "text/plain": [
       "29.69911764705882"
      ]
     },
     "execution_count": 11,
     "metadata": {},
     "output_type": "execute_result"
    }
   ],
   "source": [
    "total = 0\n",
    "cnt = 0\n",
    "for i in dataset.Age:\n",
    "    if not np.isnan(i):\n",
    "        total += i\n",
    "        cnt += 1\n",
    "avg = total / cnt\n",
    "avg"
   ]
  },
  {
   "cell_type": "code",
   "execution_count": 12,
   "id": "0c8e2202",
   "metadata": {},
   "outputs": [],
   "source": [
    "ind = 0\n",
    "for i in dataset.Age:\n",
    "    if np.isnan(i):\n",
    "        dataset.Age[ind] = avg\n",
    "    ind += 1"
   ]
  },
  {
   "cell_type": "code",
   "execution_count": 13,
   "id": "be573e22",
   "metadata": {},
   "outputs": [],
   "source": [
    "ind = 0\n",
    "for i in dataset_test.Age:\n",
    "    if np.isnan(i):\n",
    "        dataset_test.Age[ind] = avg\n",
    "    ind += 1"
   ]
  },
  {
   "cell_type": "markdown",
   "id": "cabd25d7",
   "metadata": {},
   "source": [
    "The null values in Cabin are replaced by the most frequently occuring value till that point in the training dataset while with the most frequent value of the training dataset in the test dataset"
   ]
  },
  {
   "cell_type": "code",
   "execution_count": 14,
   "id": "a072e9f4",
   "metadata": {},
   "outputs": [],
   "source": [
    "ind = 0\n",
    "freq = {}\n",
    "for i in dataset.Cabin:\n",
    "    if not pd.isna(i):\n",
    "        if i in freq:\n",
    "            freq[i] += 1\n",
    "        else:\n",
    "            freq[i] = 1\n",
    "    else:\n",
    "        if len(freq) != 0:\n",
    "            sort_orders = sorted(freq.items(), key=lambda x: x[1], reverse=True)\n",
    "            dataset.Cabin[ind] = sort_orders[0][0]\n",
    "    ind += 1\n",
    "sort_orders = sorted(freq.items(), key=lambda x: x[1], reverse=True)\n",
    "ind = 0\n",
    "for i in dataset.Cabin:\n",
    "    if pd.isna(i):\n",
    "        dataset.Cabin[ind] = sort_orders[0][0]\n",
    "    ind += 1"
   ]
  },
  {
   "cell_type": "code",
   "execution_count": 15,
   "id": "20ff60fa",
   "metadata": {},
   "outputs": [
    {
     "data": {
      "text/plain": [
       "array(['G6', 'C85', 'C123', 'E46', 'C103', 'D56', 'A6', 'C23 C25 C27',\n",
       "       'B78', 'D33', 'B30', 'C52', 'B28', 'C83', 'F33', 'F G73', 'E31',\n",
       "       'A5', 'D10 D12', 'D26', 'C110', 'B58 B60', 'E101', 'F E69', 'D47',\n",
       "       'B86', 'F2', 'C2', 'E33', 'B19', 'A7', 'C49', 'F4', 'A32', 'B4',\n",
       "       'B80', 'A31', 'D36', 'D15', 'C93', 'C78', 'D35', 'C87', 'B77',\n",
       "       'E67', 'B94', 'C125', 'C99', 'C118', 'D7', 'A19', 'B49', 'D',\n",
       "       'C22 C26', 'C106', 'C65', 'E36', 'C54', 'B57 B59 B63 B66', 'C7',\n",
       "       'E34', 'C32', 'B18', 'C124', 'C91', 'E40', 'T', 'C128', 'D37',\n",
       "       'B35', 'E50', 'C82', 'B96 B98', 'E10', 'E44', 'A34', 'C104',\n",
       "       'C111', 'C92', 'E38', 'D21', 'E12', 'E63', 'A14', 'B37', 'C30',\n",
       "       'D20', 'B79', 'E25', 'D46', 'B73', 'C95', 'B38', 'B39', 'B22',\n",
       "       'C86', 'C70', 'A16', 'C101', 'C68', 'A10', 'E68', 'B41', 'A20',\n",
       "       'D19', 'D50', 'D9', 'A23', 'B50', 'A26', 'D48', 'E58', 'C126',\n",
       "       'B71', 'B51 B53 B55', 'D49', 'B5', 'B20', 'F G63', 'C62 C64',\n",
       "       'E24', 'C90', 'C45', 'E8', 'B101', 'D45', 'C46', 'D30', 'E121',\n",
       "       'D11', 'E77', 'F38', 'B3', 'D6', 'B82 B84', 'D17', 'A36', 'B102',\n",
       "       'B69', 'E49', 'C47', 'D28', 'E17', 'A24', 'C50', 'B42', 'C148'],\n",
       "      dtype=object)"
      ]
     },
     "execution_count": 15,
     "metadata": {},
     "output_type": "execute_result"
    }
   ],
   "source": [
    "dataset.Cabin.unique()"
   ]
  },
  {
   "cell_type": "markdown",
   "id": "6adf4f04",
   "metadata": {},
   "source": [
    "Since there are multiple values of Cabin in some rows we take any one of these. For example if value is 'C22 C26' we may take either C26 or C22."
   ]
  },
  {
   "cell_type": "code",
   "execution_count": 16,
   "id": "4b1b4c88",
   "metadata": {},
   "outputs": [],
   "source": [
    "ind = 0\n",
    "for i in dataset.Cabin:\n",
    "    if ' ' in i:\n",
    "        l = i.strip().split(\" \")\n",
    "        dataset.Cabin[ind] = l[random.randint(0, len(l)) - 1]\n",
    "    ind += 1"
   ]
  },
  {
   "cell_type": "code",
   "execution_count": 17,
   "id": "4205e2e1",
   "metadata": {},
   "outputs": [],
   "source": [
    "ind = 0\n",
    "for i in dataset_test.Cabin:\n",
    "    if pd.isna(i):\n",
    "        dataset_test.Cabin[ind] = sort_orders[0][0]\n",
    "    ind += 1"
   ]
  },
  {
   "cell_type": "code",
   "execution_count": 18,
   "id": "7ff0838d",
   "metadata": {},
   "outputs": [],
   "source": [
    "ind = 0\n",
    "for i in dataset_test.Cabin:\n",
    "    if ' ' in i:\n",
    "        l = i.strip().split(\" \")\n",
    "        dataset_test.Cabin[ind] = l[random.randint(0, len(l)) - 1]\n",
    "    ind += 1"
   ]
  },
  {
   "cell_type": "markdown",
   "id": "16c97275",
   "metadata": {},
   "source": [
    "For the Embarked Column, we are replacing the null values with the most frequent upto that point in training dataset and with the most frequent value of training dataset in the testing dataset "
   ]
  },
  {
   "cell_type": "code",
   "execution_count": 19,
   "id": "7e1e743e",
   "metadata": {},
   "outputs": [],
   "source": [
    "ind = 0\n",
    "freq = {}\n",
    "for i in dataset.Embarked:\n",
    "    if not pd.isna(i):\n",
    "        if i in freq:\n",
    "            freq[i] += 1\n",
    "        else:\n",
    "            freq[i] = 1\n",
    "    else:\n",
    "        if len(freq) != 0:\n",
    "            sort_orders = sorted(freq.items(), key=lambda x: x[1], reverse=True)\n",
    "            dataset.Embarked[ind] = sort_orders[0][0]\n",
    "    ind += 1\n",
    "sort_orders = sorted(freq.items(), key=lambda x: x[1], reverse=True)\n",
    "ind = 0\n",
    "for i in dataset.Embarked:\n",
    "    if pd.isna(i):\n",
    "        dataset.Embarked[ind] = sort_orders[0][0]\n",
    "    ind += 1"
   ]
  },
  {
   "cell_type": "code",
   "execution_count": 20,
   "id": "8cfba4b0",
   "metadata": {},
   "outputs": [
    {
     "data": {
      "text/plain": [
       "array(['S', 'C', 'Q'], dtype=object)"
      ]
     },
     "execution_count": 20,
     "metadata": {},
     "output_type": "execute_result"
    }
   ],
   "source": [
    "dataset.Embarked.unique()"
   ]
  },
  {
   "cell_type": "code",
   "execution_count": 21,
   "id": "0dda5788",
   "metadata": {},
   "outputs": [],
   "source": [
    "ind = 0\n",
    "for i in dataset_test.Embarked:\n",
    "    if pd.isna(i):\n",
    "        dataset_test.Cabin[ind] = sort_orders[0][0]\n",
    "    ind += 1"
   ]
  },
  {
   "cell_type": "markdown",
   "id": "789f17f5",
   "metadata": {},
   "source": [
    "Replacing null values of the Fare column with the average of this value in ther training dataset"
   ]
  },
  {
   "cell_type": "code",
   "execution_count": 22,
   "id": "7dfb9685",
   "metadata": {},
   "outputs": [],
   "source": [
    "total = 0\n",
    "cnt = 0\n",
    "for i in dataset.Fare:\n",
    "    if not np.isnan(i):\n",
    "        total += i\n",
    "        cnt += 1\n",
    "avg = total / cnt\n",
    "ind = 0\n",
    "for i in dataset.Fare:\n",
    "    if np.isnan(i):\n",
    "        dataset_test.Fare[ind] = avg\n",
    "    ind += 1"
   ]
  },
  {
   "cell_type": "code",
   "execution_count": 23,
   "id": "8a2e7d66",
   "metadata": {},
   "outputs": [],
   "source": [
    "ind = 0\n",
    "for i in dataset_test.Fare:\n",
    "    if np.isnan(i):\n",
    "        dataset_test.Fare[ind] = avg\n",
    "    ind += 1"
   ]
  },
  {
   "cell_type": "markdown",
   "id": "21ff6756",
   "metadata": {},
   "source": [
    "### Adding new Columns"
   ]
  },
  {
   "cell_type": "markdown",
   "id": "c043a50d",
   "metadata": {},
   "source": [
    "Keeping in mind the curse of dimensionality we are experimenting by adding a few new columns for gaining better insights into the dataset. We are breaking the name of every person into surname, name and annotation. This may help us to know whether people having common surnames have more chance of survival or not. For example, Captain of the ship has least chance of survival in some cases while highest chance of survival in some other cases in comparison to normal passengers."
   ]
  },
  {
   "cell_type": "code",
   "execution_count": 24,
   "id": "15f9434f",
   "metadata": {},
   "outputs": [],
   "source": [
    "name = []\n",
    "ann = []\n",
    "surname = []\n",
    "for i in dataset.Name:\n",
    "    intermediate = i.split(\", \")[1].split(\" \")\n",
    "    intermediate.pop(0)\n",
    "    ann.append(i.split(\", \")[1].split(\" \")[0])\n",
    "    name.append((\" \").join(intermediate))\n",
    "    surname.append(i.split(\", \")[0])\n",
    "dataset['Ann'] = ann\n",
    "dataset['Name'] = name\n",
    "dataset['Surname'] = surname"
   ]
  },
  {
   "cell_type": "code",
   "execution_count": 25,
   "id": "be698237",
   "metadata": {},
   "outputs": [],
   "source": [
    "firstletter = []\n",
    "lastno = []\n",
    "for i in dataset.Cabin:\n",
    "    firstletter.append(i[0])\n",
    "    if i[1:] == '':\n",
    "        lastno.append(0)\n",
    "    else:    \n",
    "        lastno.append(int(i[1:]))\n",
    "dataset['firstletter'] = firstletter\n",
    "dataset['lastno'] = lastno"
   ]
  },
  {
   "cell_type": "code",
   "execution_count": 26,
   "id": "12371e1e",
   "metadata": {},
   "outputs": [],
   "source": [
    "name = []\n",
    "ann = []\n",
    "surname = []\n",
    "for i in dataset_test.Name:\n",
    "    intermediate = i.split(\", \")[1].split(\" \")\n",
    "    intermediate.pop(0)\n",
    "    ann.append(i.split(\", \")[1].split(\" \")[0])\n",
    "    name.append((\" \").join(intermediate))\n",
    "    surname.append(i.split(\", \")[0])\n",
    "dataset_test['Ann'] = ann\n",
    "dataset_test['Name'] = name\n",
    "dataset_test['Surname'] = surname"
   ]
  },
  {
   "cell_type": "code",
   "execution_count": 27,
   "id": "1a1f6ce1",
   "metadata": {},
   "outputs": [],
   "source": [
    "firstletter = []\n",
    "lastno = []\n",
    "for i in dataset_test.Cabin:\n",
    "    firstletter.append(i[0])\n",
    "    if i[1:] == '':\n",
    "        lastno.append(0)\n",
    "    else:    \n",
    "        lastno.append(int(i[1:]))\n",
    "dataset_test['firstletter'] = firstletter\n",
    "dataset_test['lastno'] = lastno"
   ]
  },
  {
   "cell_type": "markdown",
   "id": "dd089c29",
   "metadata": {},
   "source": [
    "### Encoding Categorical Data"
   ]
  },
  {
   "cell_type": "markdown",
   "id": "7e583f4b",
   "metadata": {},
   "source": [
    "We have columns which contain strings. Therefore we need to encode them into numerical data. Since our training dataset must be the only sample we have therefore, we use only the unique values present in training dataset for encoding. For a unique value present in testing dataset we give a constant value which equals the number of uniques in that column of training datset plus one."
   ]
  },
  {
   "cell_type": "code",
   "execution_count": 28,
   "id": "d81024b4",
   "metadata": {},
   "outputs": [
    {
     "name": "stdout",
     "output_type": "stream",
     "text": [
      "PassengerId  Unique Values:  891\n",
      "Survived  Unique Values:  2\n",
      "Pclass  Unique Values:  3\n",
      "Name  Unique Values:  799\n",
      "Sex  Unique Values:  2\n",
      "Age  Unique Values:  89\n",
      "SibSp  Unique Values:  7\n",
      "Parch  Unique Values:  7\n",
      "Ticket  Unique Values:  681\n",
      "Fare  Unique Values:  248\n",
      "Cabin  Unique Values:  152\n",
      "Embarked  Unique Values:  3\n",
      "Ann  Unique Values:  17\n",
      "Surname  Unique Values:  667\n",
      "firstletter  Unique Values:  8\n",
      "lastno  Unique Values:  97\n"
     ]
    }
   ],
   "source": [
    "for i in dataset.columns:\n",
    "    print(i, \" Unique Values: \", len(dataset[i].unique()))"
   ]
  },
  {
   "cell_type": "code",
   "execution_count": 29,
   "id": "a2b0beef",
   "metadata": {},
   "outputs": [],
   "source": [
    "Encode = [\"Pclass\", \"Name\", \"Sex\", \"SibSp\", \"Parch\", \"Ticket\", \"Cabin\", \"Embarked\", \"Ann\", \"Surname\", \"firstletter\"]\n",
    "mapping = {}\n",
    "for i in Encode:\n",
    "    encoder = LabelEncoder().fit(dataset[i])\n",
    "    dataset[i] = encoder.transform(dataset[i])\n",
    "    mapping[i] = dict(zip(encoder.classes_, range(len(encoder.classes_))))"
   ]
  },
  {
   "cell_type": "code",
   "execution_count": 30,
   "id": "ca04933e",
   "metadata": {},
   "outputs": [],
   "source": [
    "for i in Encode:\n",
    "    for j in range (0, len(dataset_test[i])):\n",
    "        if dataset_test[i][j] in mapping[i]:\n",
    "            dataset_test[i][j] = mapping[i][dataset_test[i][j]]\n",
    "        else:\n",
    "            dataset_test[i][j] = len(mapping[i])"
   ]
  },
  {
   "cell_type": "code",
   "execution_count": 31,
   "id": "6b007b52",
   "metadata": {},
   "outputs": [
    {
     "data": {
      "text/html": [
       "<div>\n",
       "<style scoped>\n",
       "    .dataframe tbody tr th:only-of-type {\n",
       "        vertical-align: middle;\n",
       "    }\n",
       "\n",
       "    .dataframe tbody tr th {\n",
       "        vertical-align: top;\n",
       "    }\n",
       "\n",
       "    .dataframe thead th {\n",
       "        text-align: right;\n",
       "    }\n",
       "</style>\n",
       "<table border=\"1\" class=\"dataframe\">\n",
       "  <thead>\n",
       "    <tr style=\"text-align: right;\">\n",
       "      <th></th>\n",
       "      <th>PassengerId</th>\n",
       "      <th>Survived</th>\n",
       "      <th>Pclass</th>\n",
       "      <th>Name</th>\n",
       "      <th>Sex</th>\n",
       "      <th>Age</th>\n",
       "      <th>SibSp</th>\n",
       "      <th>Parch</th>\n",
       "      <th>Ticket</th>\n",
       "      <th>Fare</th>\n",
       "      <th>Cabin</th>\n",
       "      <th>Embarked</th>\n",
       "      <th>Ann</th>\n",
       "      <th>Surname</th>\n",
       "      <th>firstletter</th>\n",
       "      <th>lastno</th>\n",
       "    </tr>\n",
       "  </thead>\n",
       "  <tbody>\n",
       "    <tr>\n",
       "      <th>count</th>\n",
       "      <td>891.000000</td>\n",
       "      <td>891.000000</td>\n",
       "      <td>891.000000</td>\n",
       "      <td>891.000000</td>\n",
       "      <td>891.000000</td>\n",
       "      <td>891.000000</td>\n",
       "      <td>891.000000</td>\n",
       "      <td>891.000000</td>\n",
       "      <td>891.000000</td>\n",
       "      <td>891.000000</td>\n",
       "      <td>891.000000</td>\n",
       "      <td>891.000000</td>\n",
       "      <td>891.000000</td>\n",
       "      <td>891.000000</td>\n",
       "      <td>891.000000</td>\n",
       "      <td>891.000000</td>\n",
       "    </tr>\n",
       "    <tr>\n",
       "      <th>mean</th>\n",
       "      <td>446.000000</td>\n",
       "      <td>0.383838</td>\n",
       "      <td>1.308642</td>\n",
       "      <td>401.808081</td>\n",
       "      <td>0.647587</td>\n",
       "      <td>29.699118</td>\n",
       "      <td>0.507295</td>\n",
       "      <td>0.381594</td>\n",
       "      <td>338.528620</td>\n",
       "      <td>32.204208</td>\n",
       "      <td>114.092031</td>\n",
       "      <td>1.536476</td>\n",
       "      <td>10.241302</td>\n",
       "      <td>326.023569</td>\n",
       "      <td>4.268238</td>\n",
       "      <td>35.268238</td>\n",
       "    </tr>\n",
       "    <tr>\n",
       "      <th>std</th>\n",
       "      <td>257.353842</td>\n",
       "      <td>0.486592</td>\n",
       "      <td>0.836071</td>\n",
       "      <td>230.763521</td>\n",
       "      <td>0.477990</td>\n",
       "      <td>13.002015</td>\n",
       "      <td>1.005995</td>\n",
       "      <td>0.806057</td>\n",
       "      <td>200.850657</td>\n",
       "      <td>49.693429</td>\n",
       "      <td>43.116962</td>\n",
       "      <td>0.791503</td>\n",
       "      <td>1.830798</td>\n",
       "      <td>193.555742</td>\n",
       "      <td>2.027588</td>\n",
       "      <td>42.571591</td>\n",
       "    </tr>\n",
       "    <tr>\n",
       "      <th>min</th>\n",
       "      <td>1.000000</td>\n",
       "      <td>0.000000</td>\n",
       "      <td>0.000000</td>\n",
       "      <td>0.000000</td>\n",
       "      <td>0.000000</td>\n",
       "      <td>0.420000</td>\n",
       "      <td>0.000000</td>\n",
       "      <td>0.000000</td>\n",
       "      <td>0.000000</td>\n",
       "      <td>0.000000</td>\n",
       "      <td>0.000000</td>\n",
       "      <td>0.000000</td>\n",
       "      <td>0.000000</td>\n",
       "      <td>0.000000</td>\n",
       "      <td>0.000000</td>\n",
       "      <td>0.000000</td>\n",
       "    </tr>\n",
       "    <tr>\n",
       "      <th>25%</th>\n",
       "      <td>223.500000</td>\n",
       "      <td>0.000000</td>\n",
       "      <td>1.000000</td>\n",
       "      <td>204.500000</td>\n",
       "      <td>0.000000</td>\n",
       "      <td>22.000000</td>\n",
       "      <td>0.000000</td>\n",
       "      <td>0.000000</td>\n",
       "      <td>158.500000</td>\n",
       "      <td>7.910400</td>\n",
       "      <td>71.500000</td>\n",
       "      <td>1.000000</td>\n",
       "      <td>8.000000</td>\n",
       "      <td>161.500000</td>\n",
       "      <td>2.000000</td>\n",
       "      <td>6.000000</td>\n",
       "    </tr>\n",
       "    <tr>\n",
       "      <th>50%</th>\n",
       "      <td>446.000000</td>\n",
       "      <td>0.000000</td>\n",
       "      <td>2.000000</td>\n",
       "      <td>403.000000</td>\n",
       "      <td>1.000000</td>\n",
       "      <td>29.699118</td>\n",
       "      <td>0.000000</td>\n",
       "      <td>0.000000</td>\n",
       "      <td>337.000000</td>\n",
       "      <td>14.454200</td>\n",
       "      <td>148.000000</td>\n",
       "      <td>2.000000</td>\n",
       "      <td>11.000000</td>\n",
       "      <td>317.000000</td>\n",
       "      <td>6.000000</td>\n",
       "      <td>6.000000</td>\n",
       "    </tr>\n",
       "    <tr>\n",
       "      <th>75%</th>\n",
       "      <td>668.500000</td>\n",
       "      <td>1.000000</td>\n",
       "      <td>2.000000</td>\n",
       "      <td>598.500000</td>\n",
       "      <td>1.000000</td>\n",
       "      <td>35.000000</td>\n",
       "      <td>1.000000</td>\n",
       "      <td>0.000000</td>\n",
       "      <td>519.500000</td>\n",
       "      <td>31.000000</td>\n",
       "      <td>148.000000</td>\n",
       "      <td>2.000000</td>\n",
       "      <td>11.000000</td>\n",
       "      <td>494.500000</td>\n",
       "      <td>6.000000</td>\n",
       "      <td>68.500000</td>\n",
       "    </tr>\n",
       "    <tr>\n",
       "      <th>max</th>\n",
       "      <td>891.000000</td>\n",
       "      <td>1.000000</td>\n",
       "      <td>2.000000</td>\n",
       "      <td>798.000000</td>\n",
       "      <td>1.000000</td>\n",
       "      <td>80.000000</td>\n",
       "      <td>6.000000</td>\n",
       "      <td>6.000000</td>\n",
       "      <td>680.000000</td>\n",
       "      <td>512.329200</td>\n",
       "      <td>151.000000</td>\n",
       "      <td>2.000000</td>\n",
       "      <td>16.000000</td>\n",
       "      <td>666.000000</td>\n",
       "      <td>7.000000</td>\n",
       "      <td>148.000000</td>\n",
       "    </tr>\n",
       "  </tbody>\n",
       "</table>\n",
       "</div>"
      ],
      "text/plain": [
       "       PassengerId    Survived      Pclass        Name         Sex  \\\n",
       "count   891.000000  891.000000  891.000000  891.000000  891.000000   \n",
       "mean    446.000000    0.383838    1.308642  401.808081    0.647587   \n",
       "std     257.353842    0.486592    0.836071  230.763521    0.477990   \n",
       "min       1.000000    0.000000    0.000000    0.000000    0.000000   \n",
       "25%     223.500000    0.000000    1.000000  204.500000    0.000000   \n",
       "50%     446.000000    0.000000    2.000000  403.000000    1.000000   \n",
       "75%     668.500000    1.000000    2.000000  598.500000    1.000000   \n",
       "max     891.000000    1.000000    2.000000  798.000000    1.000000   \n",
       "\n",
       "              Age       SibSp       Parch      Ticket        Fare       Cabin  \\\n",
       "count  891.000000  891.000000  891.000000  891.000000  891.000000  891.000000   \n",
       "mean    29.699118    0.507295    0.381594  338.528620   32.204208  114.092031   \n",
       "std     13.002015    1.005995    0.806057  200.850657   49.693429   43.116962   \n",
       "min      0.420000    0.000000    0.000000    0.000000    0.000000    0.000000   \n",
       "25%     22.000000    0.000000    0.000000  158.500000    7.910400   71.500000   \n",
       "50%     29.699118    0.000000    0.000000  337.000000   14.454200  148.000000   \n",
       "75%     35.000000    1.000000    0.000000  519.500000   31.000000  148.000000   \n",
       "max     80.000000    6.000000    6.000000  680.000000  512.329200  151.000000   \n",
       "\n",
       "         Embarked         Ann     Surname  firstletter      lastno  \n",
       "count  891.000000  891.000000  891.000000   891.000000  891.000000  \n",
       "mean     1.536476   10.241302  326.023569     4.268238   35.268238  \n",
       "std      0.791503    1.830798  193.555742     2.027588   42.571591  \n",
       "min      0.000000    0.000000    0.000000     0.000000    0.000000  \n",
       "25%      1.000000    8.000000  161.500000     2.000000    6.000000  \n",
       "50%      2.000000   11.000000  317.000000     6.000000    6.000000  \n",
       "75%      2.000000   11.000000  494.500000     6.000000   68.500000  \n",
       "max      2.000000   16.000000  666.000000     7.000000  148.000000  "
      ]
     },
     "execution_count": 31,
     "metadata": {},
     "output_type": "execute_result"
    }
   ],
   "source": [
    "dataset.describe()"
   ]
  },
  {
   "cell_type": "markdown",
   "id": "0156775e",
   "metadata": {},
   "source": [
    "All null values removed and new columns added"
   ]
  },
  {
   "cell_type": "code",
   "execution_count": 32,
   "id": "7f0ffd2c",
   "metadata": {},
   "outputs": [
    {
     "name": "stdout",
     "output_type": "stream",
     "text": [
      "<class 'pandas.core.frame.DataFrame'>\n",
      "RangeIndex: 891 entries, 0 to 890\n",
      "Data columns (total 16 columns):\n",
      " #   Column       Non-Null Count  Dtype  \n",
      "---  ------       --------------  -----  \n",
      " 0   PassengerId  891 non-null    int64  \n",
      " 1   Survived     891 non-null    int64  \n",
      " 2   Pclass       891 non-null    int64  \n",
      " 3   Name         891 non-null    int32  \n",
      " 4   Sex          891 non-null    int32  \n",
      " 5   Age          891 non-null    float64\n",
      " 6   SibSp        891 non-null    int64  \n",
      " 7   Parch        891 non-null    int64  \n",
      " 8   Ticket       891 non-null    int32  \n",
      " 9   Fare         891 non-null    float64\n",
      " 10  Cabin        891 non-null    int32  \n",
      " 11  Embarked     891 non-null    int32  \n",
      " 12  Ann          891 non-null    int32  \n",
      " 13  Surname      891 non-null    int32  \n",
      " 14  firstletter  891 non-null    int32  \n",
      " 15  lastno       891 non-null    int64  \n",
      "dtypes: float64(2), int32(8), int64(6)\n",
      "memory usage: 83.7 KB\n"
     ]
    }
   ],
   "source": [
    "dataset.info()"
   ]
  },
  {
   "cell_type": "code",
   "execution_count": 33,
   "id": "061e9a30",
   "metadata": {},
   "outputs": [
    {
     "name": "stdout",
     "output_type": "stream",
     "text": [
      "<class 'pandas.core.frame.DataFrame'>\n",
      "RangeIndex: 418 entries, 0 to 417\n",
      "Data columns (total 15 columns):\n",
      " #   Column       Non-Null Count  Dtype  \n",
      "---  ------       --------------  -----  \n",
      " 0   PassengerId  418 non-null    int64  \n",
      " 1   Pclass       418 non-null    int64  \n",
      " 2   Name         418 non-null    object \n",
      " 3   Sex          418 non-null    object \n",
      " 4   Age          418 non-null    float64\n",
      " 5   SibSp        418 non-null    int64  \n",
      " 6   Parch        418 non-null    int64  \n",
      " 7   Ticket       418 non-null    object \n",
      " 8   Fare         418 non-null    float64\n",
      " 9   Cabin        418 non-null    object \n",
      " 10  Embarked     418 non-null    object \n",
      " 11  Ann          418 non-null    object \n",
      " 12  Surname      418 non-null    object \n",
      " 13  firstletter  418 non-null    object \n",
      " 14  lastno       418 non-null    int64  \n",
      "dtypes: float64(2), int64(5), object(8)\n",
      "memory usage: 49.1+ KB\n"
     ]
    }
   ],
   "source": [
    "dataset_test.info()"
   ]
  },
  {
   "cell_type": "markdown",
   "id": "bcde7a58",
   "metadata": {},
   "source": [
    "# Data Visualization"
   ]
  },
  {
   "cell_type": "code",
   "execution_count": 34,
   "id": "4329fc16",
   "metadata": {},
   "outputs": [],
   "source": [
    "sns.set(rc={'figure.figsize':(11.7,8.27)})"
   ]
  },
  {
   "cell_type": "code",
   "execution_count": 35,
   "id": "8267d41c",
   "metadata": {},
   "outputs": [
    {
     "data": {
      "text/plain": [
       "<AxesSubplot:xlabel='Pclass', ylabel='Survived'>"
      ]
     },
     "execution_count": 35,
     "metadata": {},
     "output_type": "execute_result"
    },
    {
     "data": {
      "image/png": "[encoded data removed]",
      "text/plain": [
       "<Figure size 842.4x595.44 with 1 Axes>"
      ]
     },
     "metadata": {},
     "output_type": "display_data"
    }
   ],
   "source": [
    "sns.barplot(y=\"Survived\", x = 'Pclass', data=dataset)"
   ]
  },
  {
   "cell_type": "code",
   "execution_count": 36,
   "id": "036fdc3a",
   "metadata": {},
   "outputs": [
    {
     "data": {
      "text/plain": [
       "<AxesSubplot:xlabel='Sex', ylabel='Survived'>"
      ]
     },
     "execution_count": 36,
     "metadata": {},
     "output_type": "execute_result"
    },
    {
     "data": {
      "image/png": "[encoded data removed]",
      "text/plain": [
       "<Figure size 842.4x595.44 with 1 Axes>"
      ]
     },
     "metadata": {},
     "output_type": "display_data"
    }
   ],
   "source": [
    "sns.barplot(y=\"Survived\", x = 'Sex', data=dataset)"
   ]
  },
  {
   "cell_type": "code",
   "execution_count": 37,
   "id": "444ebb00",
   "metadata": {},
   "outputs": [
    {
     "data": {
      "text/plain": [
       "<AxesSubplot:xlabel='SibSp', ylabel='Survived'>"
      ]
     },
     "execution_count": 37,
     "metadata": {},
     "output_type": "execute_result"
    },
    {
     "data": {
      "image/png": "[encoded data removed]",
      "text/plain": [
       "<Figure size 842.4x595.44 with 1 Axes>"
      ]
     },
     "metadata": {},
     "output_type": "display_data"
    }
   ],
   "source": [
    "sns.barplot(y=\"Survived\", x = 'SibSp', data=dataset)"
   ]
  },
  {
   "cell_type": "code",
   "execution_count": 38,
   "id": "c2684dd2",
   "metadata": {},
   "outputs": [
    {
     "data": {
      "text/plain": [
       "<AxesSubplot:xlabel='Parch', ylabel='Survived'>"
      ]
     },
     "execution_count": 38,
     "metadata": {},
     "output_type": "execute_result"
    },
    {
     "data": {
      "image/png": "[encoded data removed]",
      "text/plain": [
       "<Figure size 842.4x595.44 with 1 Axes>"
      ]
     },
     "metadata": {},
     "output_type": "display_data"
    }
   ],
   "source": [
    "sns.barplot(y=\"Survived\", x = 'Parch', data=dataset)"
   ]
  },
  {
   "cell_type": "code",
   "execution_count": 39,
   "id": "66e7c7bc",
   "metadata": {},
   "outputs": [
    {
     "data": {
      "text/plain": [
       "<seaborn.axisgrid.FacetGrid at 0x1f8b52d2220>"
      ]
     },
     "execution_count": 39,
     "metadata": {},
     "output_type": "execute_result"
    },
    {
     "data": {
      "image/png": "[encoded data removed]",
      "text/plain": [
       "<Figure size 360x360 with 1 Axes>"
      ]
     },
     "metadata": {},
     "output_type": "display_data"
    }
   ],
   "source": [
    "sns.catplot(y='Fare', x = 'Survived', data=dataset)"
   ]
  },
  {
   "cell_type": "code",
   "execution_count": 40,
   "id": "93620c97",
   "metadata": {},
   "outputs": [
    {
     "data": {
      "text/plain": [
       "<AxesSubplot:xlabel='Embarked', ylabel='Survived'>"
      ]
     },
     "execution_count": 40,
     "metadata": {},
     "output_type": "execute_result"
    },
    {
     "data": {
      "image/png": "[encoded data removed]",
      "text/plain": [
       "<Figure size 842.4x595.44 with 1 Axes>"
      ]
     },
     "metadata": {},
     "output_type": "display_data"
    }
   ],
   "source": [
    "sns.barplot(y=\"Survived\", x = 'Embarked', data=dataset)"
   ]
  },
  {
   "cell_type": "code",
   "execution_count": 41,
   "id": "468c71a7",
   "metadata": {},
   "outputs": [
    {
     "data": {
      "text/plain": [
       "<AxesSubplot:xlabel='Ann', ylabel='Survived'>"
      ]
     },
     "execution_count": 41,
     "metadata": {},
     "output_type": "execute_result"
    },
    {
     "data": {
      "image/png": "[encoded data removed]",
      "text/plain": [
       "<Figure size 842.4x595.44 with 1 Axes>"
      ]
     },
     "metadata": {},
     "output_type": "display_data"
    }
   ],
   "source": [
    "sns.barplot(y=\"Survived\", x = 'Ann', data=dataset)"
   ]
  },
  {
   "cell_type": "code",
   "execution_count": 42,
   "id": "1784ab2f",
   "metadata": {},
   "outputs": [
    {
     "data": {
      "text/plain": [
       "<AxesSubplot:xlabel='firstletter', ylabel='Survived'>"
      ]
     },
     "execution_count": 42,
     "metadata": {},
     "output_type": "execute_result"
    },
    {
     "data": {
      "image/png": "[encoded data removed]",
      "text/plain": [
       "<Figure size 842.4x595.44 with 1 Axes>"
      ]
     },
     "metadata": {},
     "output_type": "display_data"
    }
   ],
   "source": [
    "sns.barplot(y=\"Survived\", x = 'firstletter', data=dataset)"
   ]
  },
  {
   "cell_type": "code",
   "execution_count": 43,
   "id": "263a4482",
   "metadata": {},
   "outputs": [
    {
     "data": {
      "text/plain": [
       "<seaborn.axisgrid.FacetGrid at 0x1f8b5fbe730>"
      ]
     },
     "execution_count": 43,
     "metadata": {},
     "output_type": "execute_result"
    },
    {
     "data": {
      "image/png": "[encoded data removed]",
      "text/plain": [
       "<Figure size 360x360 with 1 Axes>"
      ]
     },
     "metadata": {},
     "output_type": "display_data"
    }
   ],
   "source": [
    "sns.catplot(y=\"lastno\", x = 'Survived', data=dataset)"
   ]
  },
  {
   "cell_type": "code",
   "execution_count": 44,
   "id": "df1ecd4d",
   "metadata": {},
   "outputs": [
    {
     "data": {
      "text/html": [
       "<div>\n",
       "<style scoped>\n",
       "    .dataframe tbody tr th:only-of-type {\n",
       "        vertical-align: middle;\n",
       "    }\n",
       "\n",
       "    .dataframe tbody tr th {\n",
       "        vertical-align: top;\n",
       "    }\n",
       "\n",
       "    .dataframe thead th {\n",
       "        text-align: right;\n",
       "    }\n",
       "</style>\n",
       "<table border=\"1\" class=\"dataframe\">\n",
       "  <thead>\n",
       "    <tr style=\"text-align: right;\">\n",
       "      <th></th>\n",
       "      <th>PassengerId</th>\n",
       "      <th>Survived</th>\n",
       "      <th>Pclass</th>\n",
       "      <th>Name</th>\n",
       "      <th>Sex</th>\n",
       "      <th>Age</th>\n",
       "      <th>SibSp</th>\n",
       "      <th>Parch</th>\n",
       "      <th>Ticket</th>\n",
       "      <th>Fare</th>\n",
       "      <th>Cabin</th>\n",
       "      <th>Embarked</th>\n",
       "      <th>Ann</th>\n",
       "      <th>Surname</th>\n",
       "      <th>firstletter</th>\n",
       "      <th>lastno</th>\n",
       "    </tr>\n",
       "  </thead>\n",
       "  <tbody>\n",
       "    <tr>\n",
       "      <th>0</th>\n",
       "      <td>1</td>\n",
       "      <td>0</td>\n",
       "      <td>2</td>\n",
       "      <td>597</td>\n",
       "      <td>1</td>\n",
       "      <td>22.000000</td>\n",
       "      <td>1</td>\n",
       "      <td>0</td>\n",
       "      <td>523</td>\n",
       "      <td>7.2500</td>\n",
       "      <td>148</td>\n",
       "      <td>2</td>\n",
       "      <td>11</td>\n",
       "      <td>73</td>\n",
       "      <td>6</td>\n",
       "      <td>6</td>\n",
       "    </tr>\n",
       "    <tr>\n",
       "      <th>1</th>\n",
       "      <td>2</td>\n",
       "      <td>1</td>\n",
       "      <td>0</td>\n",
       "      <td>419</td>\n",
       "      <td>0</td>\n",
       "      <td>38.000000</td>\n",
       "      <td>1</td>\n",
       "      <td>0</td>\n",
       "      <td>596</td>\n",
       "      <td>71.2833</td>\n",
       "      <td>85</td>\n",
       "      <td>0</td>\n",
       "      <td>12</td>\n",
       "      <td>136</td>\n",
       "      <td>2</td>\n",
       "      <td>85</td>\n",
       "    </tr>\n",
       "    <tr>\n",
       "      <th>2</th>\n",
       "      <td>3</td>\n",
       "      <td>1</td>\n",
       "      <td>2</td>\n",
       "      <td>482</td>\n",
       "      <td>0</td>\n",
       "      <td>26.000000</td>\n",
       "      <td>0</td>\n",
       "      <td>0</td>\n",
       "      <td>669</td>\n",
       "      <td>7.9250</td>\n",
       "      <td>85</td>\n",
       "      <td>2</td>\n",
       "      <td>8</td>\n",
       "      <td>251</td>\n",
       "      <td>2</td>\n",
       "      <td>85</td>\n",
       "    </tr>\n",
       "    <tr>\n",
       "      <th>3</th>\n",
       "      <td>4</td>\n",
       "      <td>1</td>\n",
       "      <td>0</td>\n",
       "      <td>379</td>\n",
       "      <td>0</td>\n",
       "      <td>35.000000</td>\n",
       "      <td>1</td>\n",
       "      <td>0</td>\n",
       "      <td>49</td>\n",
       "      <td>53.1000</td>\n",
       "      <td>57</td>\n",
       "      <td>2</td>\n",
       "      <td>12</td>\n",
       "      <td>198</td>\n",
       "      <td>2</td>\n",
       "      <td>123</td>\n",
       "    </tr>\n",
       "    <tr>\n",
       "      <th>4</th>\n",
       "      <td>5</td>\n",
       "      <td>0</td>\n",
       "      <td>2</td>\n",
       "      <td>782</td>\n",
       "      <td>1</td>\n",
       "      <td>35.000000</td>\n",
       "      <td>0</td>\n",
       "      <td>0</td>\n",
       "      <td>472</td>\n",
       "      <td>8.0500</td>\n",
       "      <td>85</td>\n",
       "      <td>2</td>\n",
       "      <td>11</td>\n",
       "      <td>11</td>\n",
       "      <td>2</td>\n",
       "      <td>85</td>\n",
       "    </tr>\n",
       "    <tr>\n",
       "      <th>...</th>\n",
       "      <td>...</td>\n",
       "      <td>...</td>\n",
       "      <td>...</td>\n",
       "      <td>...</td>\n",
       "      <td>...</td>\n",
       "      <td>...</td>\n",
       "      <td>...</td>\n",
       "      <td>...</td>\n",
       "      <td>...</td>\n",
       "      <td>...</td>\n",
       "      <td>...</td>\n",
       "      <td>...</td>\n",
       "      <td>...</td>\n",
       "      <td>...</td>\n",
       "      <td>...</td>\n",
       "      <td>...</td>\n",
       "    </tr>\n",
       "    <tr>\n",
       "      <th>886</th>\n",
       "      <td>887</td>\n",
       "      <td>0</td>\n",
       "      <td>1</td>\n",
       "      <td>457</td>\n",
       "      <td>1</td>\n",
       "      <td>27.000000</td>\n",
       "      <td>0</td>\n",
       "      <td>0</td>\n",
       "      <td>101</td>\n",
       "      <td>13.0000</td>\n",
       "      <td>148</td>\n",
       "      <td>2</td>\n",
       "      <td>14</td>\n",
       "      <td>406</td>\n",
       "      <td>6</td>\n",
       "      <td>6</td>\n",
       "    </tr>\n",
       "    <tr>\n",
       "      <th>887</th>\n",
       "      <td>888</td>\n",
       "      <td>1</td>\n",
       "      <td>0</td>\n",
       "      <td>526</td>\n",
       "      <td>0</td>\n",
       "      <td>19.000000</td>\n",
       "      <td>0</td>\n",
       "      <td>0</td>\n",
       "      <td>14</td>\n",
       "      <td>30.0000</td>\n",
       "      <td>30</td>\n",
       "      <td>2</td>\n",
       "      <td>8</td>\n",
       "      <td>221</td>\n",
       "      <td>1</td>\n",
       "      <td>42</td>\n",
       "    </tr>\n",
       "    <tr>\n",
       "      <th>888</th>\n",
       "      <td>889</td>\n",
       "      <td>0</td>\n",
       "      <td>2</td>\n",
       "      <td>125</td>\n",
       "      <td>0</td>\n",
       "      <td>29.699118</td>\n",
       "      <td>1</td>\n",
       "      <td>2</td>\n",
       "      <td>675</td>\n",
       "      <td>23.4500</td>\n",
       "      <td>148</td>\n",
       "      <td>2</td>\n",
       "      <td>8</td>\n",
       "      <td>293</td>\n",
       "      <td>6</td>\n",
       "      <td>6</td>\n",
       "    </tr>\n",
       "    <tr>\n",
       "      <th>889</th>\n",
       "      <td>890</td>\n",
       "      <td>1</td>\n",
       "      <td>0</td>\n",
       "      <td>463</td>\n",
       "      <td>1</td>\n",
       "      <td>26.000000</td>\n",
       "      <td>0</td>\n",
       "      <td>0</td>\n",
       "      <td>8</td>\n",
       "      <td>30.0000</td>\n",
       "      <td>62</td>\n",
       "      <td>0</td>\n",
       "      <td>11</td>\n",
       "      <td>52</td>\n",
       "      <td>2</td>\n",
       "      <td>148</td>\n",
       "    </tr>\n",
       "    <tr>\n",
       "      <th>890</th>\n",
       "      <td>891</td>\n",
       "      <td>0</td>\n",
       "      <td>2</td>\n",
       "      <td>599</td>\n",
       "      <td>1</td>\n",
       "      <td>32.000000</td>\n",
       "      <td>0</td>\n",
       "      <td>0</td>\n",
       "      <td>466</td>\n",
       "      <td>7.7500</td>\n",
       "      <td>148</td>\n",
       "      <td>1</td>\n",
       "      <td>11</td>\n",
       "      <td>159</td>\n",
       "      <td>6</td>\n",
       "      <td>6</td>\n",
       "    </tr>\n",
       "  </tbody>\n",
       "</table>\n",
       "<p>891 rows × 16 columns</p>\n",
       "</div>"
      ],
      "text/plain": [
       "     PassengerId  Survived  Pclass  Name  Sex        Age  SibSp  Parch  \\\n",
       "0              1         0       2   597    1  22.000000      1      0   \n",
       "1              2         1       0   419    0  38.000000      1      0   \n",
       "2              3         1       2   482    0  26.000000      0      0   \n",
       "3              4         1       0   379    0  35.000000      1      0   \n",
       "4              5         0       2   782    1  35.000000      0      0   \n",
       "..           ...       ...     ...   ...  ...        ...    ...    ...   \n",
       "886          887         0       1   457    1  27.000000      0      0   \n",
       "887          888         1       0   526    0  19.000000      0      0   \n",
       "888          889         0       2   125    0  29.699118      1      2   \n",
       "889          890         1       0   463    1  26.000000      0      0   \n",
       "890          891         0       2   599    1  32.000000      0      0   \n",
       "\n",
       "     Ticket     Fare  Cabin  Embarked  Ann  Surname  firstletter  lastno  \n",
       "0       523   7.2500    148         2   11       73            6       6  \n",
       "1       596  71.2833     85         0   12      136            2      85  \n",
       "2       669   7.9250     85         2    8      251            2      85  \n",
       "3        49  53.1000     57         2   12      198            2     123  \n",
       "4       472   8.0500     85         2   11       11            2      85  \n",
       "..      ...      ...    ...       ...  ...      ...          ...     ...  \n",
       "886     101  13.0000    148         2   14      406            6       6  \n",
       "887      14  30.0000     30         2    8      221            1      42  \n",
       "888     675  23.4500    148         2    8      293            6       6  \n",
       "889       8  30.0000     62         0   11       52            2     148  \n",
       "890     466   7.7500    148         1   11      159            6       6  \n",
       "\n",
       "[891 rows x 16 columns]"
      ]
     },
     "execution_count": 44,
     "metadata": {},
     "output_type": "execute_result"
    }
   ],
   "source": [
    "dataset"
   ]
  },
  {
   "cell_type": "markdown",
   "id": "ad1631fb",
   "metadata": {},
   "source": [
    "# Splitting into Training and Validation Datasets"
   ]
  },
  {
   "cell_type": "markdown",
   "id": "214ea6b6",
   "metadata": {},
   "source": [
    "We divide the dataset into 80% training and 20% validation dataset"
   ]
  },
  {
   "cell_type": "code",
   "execution_count": 45,
   "id": "29bbc815",
   "metadata": {},
   "outputs": [],
   "source": [
    "X = dataset.iloc[:, [0, 2, 3, 4, 5, 6, 7, 8, 9, 10, 11, 12, 13, 14, 15]]\n",
    "y = dataset.Survived"
   ]
  },
  {
   "cell_type": "code",
   "execution_count": 46,
   "id": "2d24492d",
   "metadata": {},
   "outputs": [],
   "source": [
    "x_train, x_val, y_train, y_val = train_test_split(X, y, test_size = 0.20, random_state = 0)"
   ]
  },
  {
   "cell_type": "markdown",
   "id": "e0c81901",
   "metadata": {},
   "source": [
    "# Fitting the Model"
   ]
  },
  {
   "cell_type": "markdown",
   "id": "e00a1d1c",
   "metadata": {},
   "source": [
    "We followed a pattern here. At first take random values and check the performance of the model. Then we did hyperparamter tuning and used those parameters for making the final model.  "
   ]
  },
  {
   "cell_type": "markdown",
   "id": "e4d4b894",
   "metadata": {},
   "source": [
    "### RandomForest"
   ]
  },
  {
   "cell_type": "code",
   "execution_count": 47,
   "id": "471bfe50",
   "metadata": {},
   "outputs": [],
   "source": [
    "classifier = RandomForestClassifier(n_estimators = 30)\n",
    "classifier.fit(x_train, y_train)\n",
    "y_pred = classifier.predict(x_val)"
   ]
  },
  {
   "cell_type": "code",
   "execution_count": 48,
   "id": "ad07c973",
   "metadata": {},
   "outputs": [
    {
     "data": {
      "text/plain": [
       "array([[99, 11],\n",
       "       [13, 56]], dtype=int64)"
      ]
     },
     "execution_count": 48,
     "metadata": {},
     "output_type": "execute_result"
    }
   ],
   "source": [
    "cm = confusion_matrix(y_val, y_pred)\n",
    "cm"
   ]
  },
  {
   "cell_type": "code",
   "execution_count": 49,
   "id": "0a974e08",
   "metadata": {},
   "outputs": [
    {
     "data": {
      "text/plain": [
       "GridSearchCV(cv=3, estimator=RandomForestClassifier(),\n",
       "             param_grid={'criterion': ['gini', 'entropy'],\n",
       "                         'max_depth': [1, 2, 3, 4, 5],\n",
       "                         'min_samples_leaf': [2, 5, 10, 20],\n",
       "                         'min_samples_split': [5, 10, 20, 30],\n",
       "                         'n_estimators': [0, 5, 10, 20, 25, 30]})"
      ]
     },
     "execution_count": 49,
     "metadata": {},
     "output_type": "execute_result"
    }
   ],
   "source": [
    "parameters = {'n_estimators':[0, 5, 10, 20, 25, 30], 'max_depth':[1, 2, 3, 4, 5], 'criterion': ['gini', 'entropy'], 'min_samples_leaf': [2, 5, 10, 20], 'min_samples_split': [5, 10, 20, 30]}\n",
    "classifier = RandomForestClassifier()\n",
    "clf = GridSearchCV(classifier, parameters, cv = 3)\n",
    "clf.fit(X, y)"
   ]
  },
  {
   "cell_type": "code",
   "execution_count": 50,
   "id": "c50de2ab",
   "metadata": {},
   "outputs": [
    {
     "data": {
      "text/plain": [
       "{'criterion': 'entropy',\n",
       " 'max_depth': 4,\n",
       " 'min_samples_leaf': 2,\n",
       " 'min_samples_split': 5,\n",
       " 'n_estimators': 25}"
      ]
     },
     "execution_count": 50,
     "metadata": {},
     "output_type": "execute_result"
    }
   ],
   "source": [
    "clf.best_params_"
   ]
  },
  {
   "cell_type": "code",
   "execution_count": 51,
   "id": "929a92f9",
   "metadata": {},
   "outputs": [],
   "source": [
    "classifier = RandomForestClassifier(criterion = 'gini', max_depth = 5, min_samples_leaf = 5, min_samples_split = 20, n_estimators = 20)\n",
    "classifier.fit(x_train, y_train)\n",
    "y_pred = classifier.predict(x_val)"
   ]
  },
  {
   "cell_type": "code",
   "execution_count": 52,
   "id": "189e529a",
   "metadata": {},
   "outputs": [
    {
     "data": {
      "text/plain": [
       "array([[94, 16],\n",
       "       [17, 52]], dtype=int64)"
      ]
     },
     "execution_count": 52,
     "metadata": {},
     "output_type": "execute_result"
    }
   ],
   "source": [
    "cm = confusion_matrix(y_val, y_pred)\n",
    "cm"
   ]
  },
  {
   "cell_type": "code",
   "execution_count": 53,
   "id": "6e4574f9",
   "metadata": {},
   "outputs": [
    {
     "data": {
      "text/plain": [
       "array([0.02989604, 0.06586293, 0.05769449, 0.24072587, 0.04697702,\n",
       "       0.06398625, 0.02147281, 0.0664302 , 0.06558531, 0.0257015 ,\n",
       "       0.015842  , 0.23427989, 0.0223257 , 0.02336622, 0.01985376])"
      ]
     },
     "execution_count": 53,
     "metadata": {},
     "output_type": "execute_result"
    }
   ],
   "source": [
    "classifier.feature_importances_"
   ]
  },
  {
   "cell_type": "code",
   "execution_count": 54,
   "id": "948e293a",
   "metadata": {},
   "outputs": [],
   "source": [
    "ind = 0\n",
    "taken = []\n",
    "for i in classifier.feature_importances_:\n",
    "    if i > np.average(classifier.feature_importances_) / 2:\n",
    "        taken.append(ind)\n",
    "    ind += 1"
   ]
  },
  {
   "cell_type": "code",
   "execution_count": 55,
   "id": "0b3d0212",
   "metadata": {},
   "outputs": [],
   "source": [
    "dataset_cropped = dataset.iloc[:, taken]"
   ]
  },
  {
   "cell_type": "code",
   "execution_count": 56,
   "id": "6008943c",
   "metadata": {},
   "outputs": [
    {
     "data": {
      "text/html": [
       "<div>\n",
       "<style scoped>\n",
       "    .dataframe tbody tr th:only-of-type {\n",
       "        vertical-align: middle;\n",
       "    }\n",
       "\n",
       "    .dataframe tbody tr th {\n",
       "        vertical-align: top;\n",
       "    }\n",
       "\n",
       "    .dataframe thead th {\n",
       "        text-align: right;\n",
       "    }\n",
       "</style>\n",
       "<table border=\"1\" class=\"dataframe\">\n",
       "  <thead>\n",
       "    <tr style=\"text-align: right;\">\n",
       "      <th></th>\n",
       "      <th>Survived</th>\n",
       "      <th>Pclass</th>\n",
       "      <th>Name</th>\n",
       "      <th>Sex</th>\n",
       "      <th>Age</th>\n",
       "      <th>Parch</th>\n",
       "      <th>Ticket</th>\n",
       "      <th>Embarked</th>\n",
       "    </tr>\n",
       "  </thead>\n",
       "  <tbody>\n",
       "    <tr>\n",
       "      <th>0</th>\n",
       "      <td>0</td>\n",
       "      <td>2</td>\n",
       "      <td>597</td>\n",
       "      <td>1</td>\n",
       "      <td>22.000000</td>\n",
       "      <td>0</td>\n",
       "      <td>523</td>\n",
       "      <td>2</td>\n",
       "    </tr>\n",
       "    <tr>\n",
       "      <th>1</th>\n",
       "      <td>1</td>\n",
       "      <td>0</td>\n",
       "      <td>419</td>\n",
       "      <td>0</td>\n",
       "      <td>38.000000</td>\n",
       "      <td>0</td>\n",
       "      <td>596</td>\n",
       "      <td>0</td>\n",
       "    </tr>\n",
       "    <tr>\n",
       "      <th>2</th>\n",
       "      <td>1</td>\n",
       "      <td>2</td>\n",
       "      <td>482</td>\n",
       "      <td>0</td>\n",
       "      <td>26.000000</td>\n",
       "      <td>0</td>\n",
       "      <td>669</td>\n",
       "      <td>2</td>\n",
       "    </tr>\n",
       "    <tr>\n",
       "      <th>3</th>\n",
       "      <td>1</td>\n",
       "      <td>0</td>\n",
       "      <td>379</td>\n",
       "      <td>0</td>\n",
       "      <td>35.000000</td>\n",
       "      <td>0</td>\n",
       "      <td>49</td>\n",
       "      <td>2</td>\n",
       "    </tr>\n",
       "    <tr>\n",
       "      <th>4</th>\n",
       "      <td>0</td>\n",
       "      <td>2</td>\n",
       "      <td>782</td>\n",
       "      <td>1</td>\n",
       "      <td>35.000000</td>\n",
       "      <td>0</td>\n",
       "      <td>472</td>\n",
       "      <td>2</td>\n",
       "    </tr>\n",
       "    <tr>\n",
       "      <th>...</th>\n",
       "      <td>...</td>\n",
       "      <td>...</td>\n",
       "      <td>...</td>\n",
       "      <td>...</td>\n",
       "      <td>...</td>\n",
       "      <td>...</td>\n",
       "      <td>...</td>\n",
       "      <td>...</td>\n",
       "    </tr>\n",
       "    <tr>\n",
       "      <th>886</th>\n",
       "      <td>0</td>\n",
       "      <td>1</td>\n",
       "      <td>457</td>\n",
       "      <td>1</td>\n",
       "      <td>27.000000</td>\n",
       "      <td>0</td>\n",
       "      <td>101</td>\n",
       "      <td>2</td>\n",
       "    </tr>\n",
       "    <tr>\n",
       "      <th>887</th>\n",
       "      <td>1</td>\n",
       "      <td>0</td>\n",
       "      <td>526</td>\n",
       "      <td>0</td>\n",
       "      <td>19.000000</td>\n",
       "      <td>0</td>\n",
       "      <td>14</td>\n",
       "      <td>2</td>\n",
       "    </tr>\n",
       "    <tr>\n",
       "      <th>888</th>\n",
       "      <td>0</td>\n",
       "      <td>2</td>\n",
       "      <td>125</td>\n",
       "      <td>0</td>\n",
       "      <td>29.699118</td>\n",
       "      <td>2</td>\n",
       "      <td>675</td>\n",
       "      <td>2</td>\n",
       "    </tr>\n",
       "    <tr>\n",
       "      <th>889</th>\n",
       "      <td>1</td>\n",
       "      <td>0</td>\n",
       "      <td>463</td>\n",
       "      <td>1</td>\n",
       "      <td>26.000000</td>\n",
       "      <td>0</td>\n",
       "      <td>8</td>\n",
       "      <td>0</td>\n",
       "    </tr>\n",
       "    <tr>\n",
       "      <th>890</th>\n",
       "      <td>0</td>\n",
       "      <td>2</td>\n",
       "      <td>599</td>\n",
       "      <td>1</td>\n",
       "      <td>32.000000</td>\n",
       "      <td>0</td>\n",
       "      <td>466</td>\n",
       "      <td>1</td>\n",
       "    </tr>\n",
       "  </tbody>\n",
       "</table>\n",
       "<p>891 rows × 8 columns</p>\n",
       "</div>"
      ],
      "text/plain": [
       "     Survived  Pclass  Name  Sex        Age  Parch  Ticket  Embarked\n",
       "0           0       2   597    1  22.000000      0     523         2\n",
       "1           1       0   419    0  38.000000      0     596         0\n",
       "2           1       2   482    0  26.000000      0     669         2\n",
       "3           1       0   379    0  35.000000      0      49         2\n",
       "4           0       2   782    1  35.000000      0     472         2\n",
       "..        ...     ...   ...  ...        ...    ...     ...       ...\n",
       "886         0       1   457    1  27.000000      0     101         2\n",
       "887         1       0   526    0  19.000000      0      14         2\n",
       "888         0       2   125    0  29.699118      2     675         2\n",
       "889         1       0   463    1  26.000000      0       8         0\n",
       "890         0       2   599    1  32.000000      0     466         1\n",
       "\n",
       "[891 rows x 8 columns]"
      ]
     },
     "execution_count": 56,
     "metadata": {},
     "output_type": "execute_result"
    }
   ],
   "source": [
    "dataset_cropped"
   ]
  },
  {
   "cell_type": "code",
   "execution_count": 57,
   "id": "a7de4a29",
   "metadata": {},
   "outputs": [],
   "source": [
    "X_cropped = dataset_cropped.iloc[:, [1, 2, 3, 4, 5, 6]]\n",
    "y_cropped = dataset_cropped.Survived"
   ]
  },
  {
   "cell_type": "code",
   "execution_count": 58,
   "id": "df9ab8cb",
   "metadata": {},
   "outputs": [
    {
     "data": {
      "text/plain": [
       "GridSearchCV(cv=3, estimator=RandomForestClassifier(),\n",
       "             param_grid={'criterion': ['gini', 'entropy'],\n",
       "                         'max_depth': [1, 2, 3, 4, 5],\n",
       "                         'min_samples_leaf': [2, 5, 10, 20],\n",
       "                         'min_samples_split': [5, 10, 20, 30],\n",
       "                         'n_estimators': [0, 5, 10, 20, 25, 30]})"
      ]
     },
     "execution_count": 58,
     "metadata": {},
     "output_type": "execute_result"
    }
   ],
   "source": [
    "parameters = {'n_estimators':[0, 5, 10, 20, 25, 30], 'max_depth':[1, 2, 3, 4, 5], 'criterion': ['gini', 'entropy'], 'min_samples_leaf': [2, 5, 10, 20], 'min_samples_split': [5, 10, 20, 30]}\n",
    "classifier = RandomForestClassifier()\n",
    "clf = GridSearchCV(classifier, parameters, cv = 3)\n",
    "clf.fit(X_cropped, y_cropped)"
   ]
  },
  {
   "cell_type": "code",
   "execution_count": 59,
   "id": "93260979",
   "metadata": {},
   "outputs": [
    {
     "data": {
      "text/plain": [
       "{'criterion': 'entropy',\n",
       " 'max_depth': 5,\n",
       " 'min_samples_leaf': 5,\n",
       " 'min_samples_split': 20,\n",
       " 'n_estimators': 20}"
      ]
     },
     "execution_count": 59,
     "metadata": {},
     "output_type": "execute_result"
    }
   ],
   "source": [
    "clf.best_params_"
   ]
  },
  {
   "cell_type": "code",
   "execution_count": 60,
   "id": "cf1202c7",
   "metadata": {},
   "outputs": [
    {
     "data": {
      "text/html": [
       "<div>\n",
       "<style scoped>\n",
       "    .dataframe tbody tr th:only-of-type {\n",
       "        vertical-align: middle;\n",
       "    }\n",
       "\n",
       "    .dataframe tbody tr th {\n",
       "        vertical-align: top;\n",
       "    }\n",
       "\n",
       "    .dataframe thead th {\n",
       "        text-align: right;\n",
       "    }\n",
       "</style>\n",
       "<table border=\"1\" class=\"dataframe\">\n",
       "  <thead>\n",
       "    <tr style=\"text-align: right;\">\n",
       "      <th></th>\n",
       "      <th>PassengerId</th>\n",
       "      <th>Pclass</th>\n",
       "      <th>Name</th>\n",
       "      <th>Sex</th>\n",
       "      <th>Age</th>\n",
       "      <th>SibSp</th>\n",
       "      <th>Parch</th>\n",
       "      <th>Ticket</th>\n",
       "      <th>Fare</th>\n",
       "      <th>Cabin</th>\n",
       "      <th>Embarked</th>\n",
       "      <th>Ann</th>\n",
       "      <th>Surname</th>\n",
       "      <th>firstletter</th>\n",
       "      <th>lastno</th>\n",
       "    </tr>\n",
       "  </thead>\n",
       "  <tbody>\n",
       "    <tr>\n",
       "      <th>0</th>\n",
       "      <td>892</td>\n",
       "      <td>2</td>\n",
       "      <td>382</td>\n",
       "      <td>1</td>\n",
       "      <td>34.500000</td>\n",
       "      <td>0</td>\n",
       "      <td>0</td>\n",
       "      <td>681</td>\n",
       "      <td>7.8292</td>\n",
       "      <td>148</td>\n",
       "      <td>1</td>\n",
       "      <td>11</td>\n",
       "      <td>306</td>\n",
       "      <td>6</td>\n",
       "      <td>6</td>\n",
       "    </tr>\n",
       "    <tr>\n",
       "      <th>1</th>\n",
       "      <td>893</td>\n",
       "      <td>2</td>\n",
       "      <td>799</td>\n",
       "      <td>0</td>\n",
       "      <td>47.000000</td>\n",
       "      <td>1</td>\n",
       "      <td>0</td>\n",
       "      <td>681</td>\n",
       "      <td>7.0000</td>\n",
       "      <td>148</td>\n",
       "      <td>2</td>\n",
       "      <td>12</td>\n",
       "      <td>667</td>\n",
       "      <td>6</td>\n",
       "      <td>6</td>\n",
       "    </tr>\n",
       "    <tr>\n",
       "      <th>2</th>\n",
       "      <td>894</td>\n",
       "      <td>1</td>\n",
       "      <td>799</td>\n",
       "      <td>1</td>\n",
       "      <td>62.000000</td>\n",
       "      <td>0</td>\n",
       "      <td>0</td>\n",
       "      <td>681</td>\n",
       "      <td>9.6875</td>\n",
       "      <td>148</td>\n",
       "      <td>1</td>\n",
       "      <td>11</td>\n",
       "      <td>667</td>\n",
       "      <td>6</td>\n",
       "      <td>6</td>\n",
       "    </tr>\n",
       "    <tr>\n",
       "      <th>3</th>\n",
       "      <td>895</td>\n",
       "      <td>2</td>\n",
       "      <td>25</td>\n",
       "      <td>1</td>\n",
       "      <td>27.000000</td>\n",
       "      <td>0</td>\n",
       "      <td>0</td>\n",
       "      <td>681</td>\n",
       "      <td>8.6625</td>\n",
       "      <td>148</td>\n",
       "      <td>2</td>\n",
       "      <td>11</td>\n",
       "      <td>667</td>\n",
       "      <td>6</td>\n",
       "      <td>6</td>\n",
       "    </tr>\n",
       "    <tr>\n",
       "      <th>4</th>\n",
       "      <td>896</td>\n",
       "      <td>2</td>\n",
       "      <td>799</td>\n",
       "      <td>0</td>\n",
       "      <td>22.000000</td>\n",
       "      <td>1</td>\n",
       "      <td>1</td>\n",
       "      <td>251</td>\n",
       "      <td>12.2875</td>\n",
       "      <td>148</td>\n",
       "      <td>2</td>\n",
       "      <td>12</td>\n",
       "      <td>259</td>\n",
       "      <td>6</td>\n",
       "      <td>6</td>\n",
       "    </tr>\n",
       "    <tr>\n",
       "      <th>...</th>\n",
       "      <td>...</td>\n",
       "      <td>...</td>\n",
       "      <td>...</td>\n",
       "      <td>...</td>\n",
       "      <td>...</td>\n",
       "      <td>...</td>\n",
       "      <td>...</td>\n",
       "      <td>...</td>\n",
       "      <td>...</td>\n",
       "      <td>...</td>\n",
       "      <td>...</td>\n",
       "      <td>...</td>\n",
       "      <td>...</td>\n",
       "      <td>...</td>\n",
       "      <td>...</td>\n",
       "    </tr>\n",
       "    <tr>\n",
       "      <th>413</th>\n",
       "      <td>1305</td>\n",
       "      <td>2</td>\n",
       "      <td>799</td>\n",
       "      <td>1</td>\n",
       "      <td>29.699118</td>\n",
       "      <td>0</td>\n",
       "      <td>0</td>\n",
       "      <td>681</td>\n",
       "      <td>8.0500</td>\n",
       "      <td>148</td>\n",
       "      <td>2</td>\n",
       "      <td>11</td>\n",
       "      <td>667</td>\n",
       "      <td>6</td>\n",
       "      <td>6</td>\n",
       "    </tr>\n",
       "    <tr>\n",
       "      <th>414</th>\n",
       "      <td>1306</td>\n",
       "      <td>0</td>\n",
       "      <td>799</td>\n",
       "      <td>0</td>\n",
       "      <td>39.000000</td>\n",
       "      <td>0</td>\n",
       "      <td>0</td>\n",
       "      <td>611</td>\n",
       "      <td>108.9000</td>\n",
       "      <td>152</td>\n",
       "      <td>0</td>\n",
       "      <td>17</td>\n",
       "      <td>667</td>\n",
       "      <td>2</td>\n",
       "      <td>105</td>\n",
       "    </tr>\n",
       "    <tr>\n",
       "      <th>415</th>\n",
       "      <td>1307</td>\n",
       "      <td>2</td>\n",
       "      <td>799</td>\n",
       "      <td>1</td>\n",
       "      <td>38.500000</td>\n",
       "      <td>0</td>\n",
       "      <td>0</td>\n",
       "      <td>681</td>\n",
       "      <td>7.2500</td>\n",
       "      <td>148</td>\n",
       "      <td>2</td>\n",
       "      <td>11</td>\n",
       "      <td>667</td>\n",
       "      <td>6</td>\n",
       "      <td>6</td>\n",
       "    </tr>\n",
       "    <tr>\n",
       "      <th>416</th>\n",
       "      <td>1308</td>\n",
       "      <td>2</td>\n",
       "      <td>270</td>\n",
       "      <td>1</td>\n",
       "      <td>29.699118</td>\n",
       "      <td>0</td>\n",
       "      <td>0</td>\n",
       "      <td>681</td>\n",
       "      <td>8.0500</td>\n",
       "      <td>148</td>\n",
       "      <td>2</td>\n",
       "      <td>11</td>\n",
       "      <td>667</td>\n",
       "      <td>6</td>\n",
       "      <td>6</td>\n",
       "    </tr>\n",
       "    <tr>\n",
       "      <th>417</th>\n",
       "      <td>1309</td>\n",
       "      <td>2</td>\n",
       "      <td>799</td>\n",
       "      <td>1</td>\n",
       "      <td>29.699118</td>\n",
       "      <td>1</td>\n",
       "      <td>1</td>\n",
       "      <td>196</td>\n",
       "      <td>22.3583</td>\n",
       "      <td>148</td>\n",
       "      <td>0</td>\n",
       "      <td>7</td>\n",
       "      <td>482</td>\n",
       "      <td>6</td>\n",
       "      <td>6</td>\n",
       "    </tr>\n",
       "  </tbody>\n",
       "</table>\n",
       "<p>418 rows × 15 columns</p>\n",
       "</div>"
      ],
      "text/plain": [
       "     PassengerId  Pclass Name Sex        Age  SibSp  Parch Ticket      Fare  \\\n",
       "0            892       2  382   1  34.500000      0      0    681    7.8292   \n",
       "1            893       2  799   0  47.000000      1      0    681    7.0000   \n",
       "2            894       1  799   1  62.000000      0      0    681    9.6875   \n",
       "3            895       2   25   1  27.000000      0      0    681    8.6625   \n",
       "4            896       2  799   0  22.000000      1      1    251   12.2875   \n",
       "..           ...     ...  ...  ..        ...    ...    ...    ...       ...   \n",
       "413         1305       2  799   1  29.699118      0      0    681    8.0500   \n",
       "414         1306       0  799   0  39.000000      0      0    611  108.9000   \n",
       "415         1307       2  799   1  38.500000      0      0    681    7.2500   \n",
       "416         1308       2  270   1  29.699118      0      0    681    8.0500   \n",
       "417         1309       2  799   1  29.699118      1      1    196   22.3583   \n",
       "\n",
       "    Cabin Embarked Ann Surname firstletter  lastno  \n",
       "0     148        1  11     306           6       6  \n",
       "1     148        2  12     667           6       6  \n",
       "2     148        1  11     667           6       6  \n",
       "3     148        2  11     667           6       6  \n",
       "4     148        2  12     259           6       6  \n",
       "..    ...      ...  ..     ...         ...     ...  \n",
       "413   148        2  11     667           6       6  \n",
       "414   152        0  17     667           2     105  \n",
       "415   148        2  11     667           6       6  \n",
       "416   148        2  11     667           6       6  \n",
       "417   148        0   7     482           6       6  \n",
       "\n",
       "[418 rows x 15 columns]"
      ]
     },
     "execution_count": 60,
     "metadata": {},
     "output_type": "execute_result"
    }
   ],
   "source": [
    "dataset_test"
   ]
  },
  {
   "cell_type": "code",
   "execution_count": 61,
   "id": "4f48dbd5",
   "metadata": {},
   "outputs": [],
   "source": [
    "x_test = dataset_test.iloc[:, [1, 2, 3, 6, 7, 10]]"
   ]
  },
  {
   "cell_type": "code",
   "execution_count": 62,
   "id": "71d8b572",
   "metadata": {},
   "outputs": [
    {
     "data": {
      "text/html": [
       "<div>\n",
       "<style scoped>\n",
       "    .dataframe tbody tr th:only-of-type {\n",
       "        vertical-align: middle;\n",
       "    }\n",
       "\n",
       "    .dataframe tbody tr th {\n",
       "        vertical-align: top;\n",
       "    }\n",
       "\n",
       "    .dataframe thead th {\n",
       "        text-align: right;\n",
       "    }\n",
       "</style>\n",
       "<table border=\"1\" class=\"dataframe\">\n",
       "  <thead>\n",
       "    <tr style=\"text-align: right;\">\n",
       "      <th></th>\n",
       "      <th>Pclass</th>\n",
       "      <th>Name</th>\n",
       "      <th>Sex</th>\n",
       "      <th>Parch</th>\n",
       "      <th>Ticket</th>\n",
       "      <th>Embarked</th>\n",
       "    </tr>\n",
       "  </thead>\n",
       "  <tbody>\n",
       "    <tr>\n",
       "      <th>0</th>\n",
       "      <td>2</td>\n",
       "      <td>382</td>\n",
       "      <td>1</td>\n",
       "      <td>0</td>\n",
       "      <td>681</td>\n",
       "      <td>1</td>\n",
       "    </tr>\n",
       "    <tr>\n",
       "      <th>1</th>\n",
       "      <td>2</td>\n",
       "      <td>799</td>\n",
       "      <td>0</td>\n",
       "      <td>0</td>\n",
       "      <td>681</td>\n",
       "      <td>2</td>\n",
       "    </tr>\n",
       "    <tr>\n",
       "      <th>2</th>\n",
       "      <td>1</td>\n",
       "      <td>799</td>\n",
       "      <td>1</td>\n",
       "      <td>0</td>\n",
       "      <td>681</td>\n",
       "      <td>1</td>\n",
       "    </tr>\n",
       "    <tr>\n",
       "      <th>3</th>\n",
       "      <td>2</td>\n",
       "      <td>25</td>\n",
       "      <td>1</td>\n",
       "      <td>0</td>\n",
       "      <td>681</td>\n",
       "      <td>2</td>\n",
       "    </tr>\n",
       "    <tr>\n",
       "      <th>4</th>\n",
       "      <td>2</td>\n",
       "      <td>799</td>\n",
       "      <td>0</td>\n",
       "      <td>1</td>\n",
       "      <td>251</td>\n",
       "      <td>2</td>\n",
       "    </tr>\n",
       "    <tr>\n",
       "      <th>...</th>\n",
       "      <td>...</td>\n",
       "      <td>...</td>\n",
       "      <td>...</td>\n",
       "      <td>...</td>\n",
       "      <td>...</td>\n",
       "      <td>...</td>\n",
       "    </tr>\n",
       "    <tr>\n",
       "      <th>413</th>\n",
       "      <td>2</td>\n",
       "      <td>799</td>\n",
       "      <td>1</td>\n",
       "      <td>0</td>\n",
       "      <td>681</td>\n",
       "      <td>2</td>\n",
       "    </tr>\n",
       "    <tr>\n",
       "      <th>414</th>\n",
       "      <td>0</td>\n",
       "      <td>799</td>\n",
       "      <td>0</td>\n",
       "      <td>0</td>\n",
       "      <td>611</td>\n",
       "      <td>0</td>\n",
       "    </tr>\n",
       "    <tr>\n",
       "      <th>415</th>\n",
       "      <td>2</td>\n",
       "      <td>799</td>\n",
       "      <td>1</td>\n",
       "      <td>0</td>\n",
       "      <td>681</td>\n",
       "      <td>2</td>\n",
       "    </tr>\n",
       "    <tr>\n",
       "      <th>416</th>\n",
       "      <td>2</td>\n",
       "      <td>270</td>\n",
       "      <td>1</td>\n",
       "      <td>0</td>\n",
       "      <td>681</td>\n",
       "      <td>2</td>\n",
       "    </tr>\n",
       "    <tr>\n",
       "      <th>417</th>\n",
       "      <td>2</td>\n",
       "      <td>799</td>\n",
       "      <td>1</td>\n",
       "      <td>1</td>\n",
       "      <td>196</td>\n",
       "      <td>0</td>\n",
       "    </tr>\n",
       "  </tbody>\n",
       "</table>\n",
       "<p>418 rows × 6 columns</p>\n",
       "</div>"
      ],
      "text/plain": [
       "     Pclass Name Sex  Parch Ticket Embarked\n",
       "0         2  382   1      0    681        1\n",
       "1         2  799   0      0    681        2\n",
       "2         1  799   1      0    681        1\n",
       "3         2   25   1      0    681        2\n",
       "4         2  799   0      1    251        2\n",
       "..      ...  ...  ..    ...    ...      ...\n",
       "413       2  799   1      0    681        2\n",
       "414       0  799   0      0    611        0\n",
       "415       2  799   1      0    681        2\n",
       "416       2  270   1      0    681        2\n",
       "417       2  799   1      1    196        0\n",
       "\n",
       "[418 rows x 6 columns]"
      ]
     },
     "execution_count": 62,
     "metadata": {},
     "output_type": "execute_result"
    }
   ],
   "source": [
    "x_test"
   ]
  },
  {
   "cell_type": "code",
   "execution_count": 63,
   "id": "47503188",
   "metadata": {},
   "outputs": [],
   "source": [
    "classifier = RandomForestClassifier(criterion = 'gini', max_depth = 3, min_samples_leaf = 20, min_samples_split = 30, n_estimators = 10)\n",
    "classifier.fit(X_cropped, y_cropped)\n",
    "y_pred = classifier.predict(x_test)"
   ]
  },
  {
   "cell_type": "code",
   "execution_count": 64,
   "id": "6272d414",
   "metadata": {},
   "outputs": [],
   "source": [
    "prediction = pd.DataFrame(y_pred, columns=['predictions']).to_csv('predictionRF.csv')"
   ]
  },
  {
   "cell_type": "markdown",
   "id": "f9338608",
   "metadata": {},
   "source": [
    "### K-Nearest Neighbors"
   ]
  },
  {
   "cell_type": "code",
   "execution_count": 65,
   "id": "836d5e7d",
   "metadata": {},
   "outputs": [],
   "source": [
    "X_scaled = X\n",
    "y_scaled = y"
   ]
  },
  {
   "cell_type": "code",
   "execution_count": 66,
   "id": "ccf57aa6",
   "metadata": {},
   "outputs": [
    {
     "data": {
      "text/plain": [
       "array([[-1.73010796,  0.82737724,  0.84632764, ..., -1.30797296,\n",
       "         0.85457922, -0.68789246],\n",
       "       [-1.72622007, -1.56610693,  0.074542  , ..., -0.98230252,\n",
       "        -1.11931602,  1.16884741],\n",
       "       [-1.72233219,  0.82737724,  0.34770209, ..., -0.38782474,\n",
       "        -1.11931602,  1.16884741],\n",
       "       ...,\n",
       "       [ 1.72233219,  0.82737724, -1.20020507, ..., -0.17071111,\n",
       "         0.85457922, -0.68789246],\n",
       "       [ 1.72622007, -1.56610693,  0.26532048, ..., -1.41652977,\n",
       "        -1.11931602,  2.6495387 ],\n",
       "       [ 1.73010796,  0.82737724,  0.85499939, ..., -0.86340697,\n",
       "         0.85457922, -0.68789246]])"
      ]
     },
     "execution_count": 66,
     "metadata": {},
     "output_type": "execute_result"
    }
   ],
   "source": [
    "scaler = StandardScaler()\n",
    "scaler.fit_transform(X_scaled)"
   ]
  },
  {
   "cell_type": "code",
   "execution_count": 67,
   "id": "d8d13f1b",
   "metadata": {},
   "outputs": [],
   "source": [
    "x_scaled_train, x_scaled_val, y_scaled_train, y_scaled_val = train_test_split(X_scaled, y_scaled, test_size = 0.20, random_state = 0)"
   ]
  },
  {
   "cell_type": "code",
   "execution_count": 68,
   "id": "4583fd99",
   "metadata": {},
   "outputs": [],
   "source": [
    "classifier = KNeighborsClassifier(n_neighbors = 5, metric = 'minkowski', p = 2)\n",
    "classifier.fit(x_scaled_train, y_scaled_train)\n",
    "y_pred = classifier.predict(x_scaled_val)"
   ]
  },
  {
   "cell_type": "code",
   "execution_count": 69,
   "id": "2a6dcc72",
   "metadata": {},
   "outputs": [
    {
     "data": {
      "text/plain": [
       "array([[79, 31],\n",
       "       [43, 26]], dtype=int64)"
      ]
     },
     "execution_count": 69,
     "metadata": {},
     "output_type": "execute_result"
    }
   ],
   "source": [
    "cm = confusion_matrix(y_scaled_val, y_pred)\n",
    "cm"
   ]
  },
  {
   "cell_type": "code",
   "execution_count": 70,
   "id": "4fbc79ed",
   "metadata": {},
   "outputs": [
    {
     "data": {
      "text/plain": [
       "GridSearchCV(cv=3, estimator=KNeighborsClassifier(),\n",
       "             param_grid={'n_neighbors': [2, 5, 10, 20, 25, 50],\n",
       "                         'p': [1, 2, 3, 4, 5]})"
      ]
     },
     "execution_count": 70,
     "metadata": {},
     "output_type": "execute_result"
    }
   ],
   "source": [
    "parameters = {'n_neighbors':[2, 5, 10, 20, 25, 50], 'p' : [1, 2, 3, 4, 5]}\n",
    "classifier = KNeighborsClassifier()\n",
    "clf = GridSearchCV(classifier, parameters, cv = 3)\n",
    "clf.fit(X_scaled, y_scaled)"
   ]
  },
  {
   "cell_type": "code",
   "execution_count": 71,
   "id": "8338e813",
   "metadata": {},
   "outputs": [
    {
     "data": {
      "text/plain": [
       "{'n_neighbors': 10, 'p': 1}"
      ]
     },
     "execution_count": 71,
     "metadata": {},
     "output_type": "execute_result"
    }
   ],
   "source": [
    "clf.best_params_"
   ]
  },
  {
   "cell_type": "code",
   "execution_count": 72,
   "id": "f50d3be4",
   "metadata": {},
   "outputs": [],
   "source": [
    "x_test = dataset_test"
   ]
  },
  {
   "cell_type": "code",
   "execution_count": 73,
   "id": "e8c9ad23",
   "metadata": {},
   "outputs": [
    {
     "data": {
      "text/plain": [
       "array([[ 1.73399584,  0.82737724, -0.08588535, ..., -0.10350928,\n",
       "         0.85457922, -0.68789246],\n",
       "       [ 1.73788372,  0.82737724,  1.72217427, ...,  1.76263403,\n",
       "         0.85457922, -0.68789246],\n",
       "       [ 1.74177161, -0.36936484,  1.72217427, ...,  1.76263403,\n",
       "         0.85457922, -0.68789246],\n",
       "       ...,\n",
       "       [ 3.34746731,  0.82737724,  1.72217427, ...,  1.76263403,\n",
       "         0.85457922, -0.68789246],\n",
       "       [ 3.35135519,  0.82737724, -0.57150328, ...,  1.76263403,\n",
       "         0.85457922, -0.68789246],\n",
       "       [ 3.35524307,  0.82737724,  1.72217427, ...,  0.8063002 ,\n",
       "         0.85457922, -0.68789246]])"
      ]
     },
     "execution_count": 73,
     "metadata": {},
     "output_type": "execute_result"
    }
   ],
   "source": [
    "scaler.transform(x_test)"
   ]
  },
  {
   "cell_type": "code",
   "execution_count": 74,
   "id": "e67a9b56",
   "metadata": {},
   "outputs": [],
   "source": [
    "classifier = KNeighborsClassifier(n_neighbors = 10, metric = 'minkowski', p = 1)\n",
    "classifier.fit(X_scaled, y_scaled)\n",
    "y_pred = classifier.predict(x_test)"
   ]
  },
  {
   "cell_type": "code",
   "execution_count": 75,
   "id": "053ab912",
   "metadata": {},
   "outputs": [],
   "source": [
    "prediction = pd.DataFrame(y_pred, columns=['predictions']).to_csv('predictionKNN.csv')"
   ]
  },
  {
   "cell_type": "markdown",
   "id": "2610de83",
   "metadata": {},
   "source": [
    "### Support Vector Classifier"
   ]
  },
  {
   "cell_type": "code",
   "execution_count": 76,
   "id": "bbe7ac55",
   "metadata": {},
   "outputs": [],
   "source": [
    "classifier = SVC(kernel = 'sigmoid')\n",
    "classifier.fit(x_train, y_train)\n",
    "y_pred = classifier.predict(x_val)"
   ]
  },
  {
   "cell_type": "code",
   "execution_count": 77,
   "id": "49ae01d8",
   "metadata": {},
   "outputs": [
    {
     "data": {
      "text/plain": [
       "array([[81, 29],\n",
       "       [41, 28]], dtype=int64)"
      ]
     },
     "execution_count": 77,
     "metadata": {},
     "output_type": "execute_result"
    }
   ],
   "source": [
    "cm = confusion_matrix(y_val, y_pred)\n",
    "cm"
   ]
  },
  {
   "cell_type": "code",
   "execution_count": 78,
   "id": "5f12cc3f",
   "metadata": {},
   "outputs": [
    {
     "data": {
      "text/plain": [
       "GridSearchCV(cv=3, estimator=SVC(), param_grid={'kernel': ['sigmoid', 'rbf']})"
      ]
     },
     "execution_count": 78,
     "metadata": {},
     "output_type": "execute_result"
    }
   ],
   "source": [
    "parameters = {'kernel':['sigmoid', 'rbf']}\n",
    "classifier = SVC()\n",
    "clf = GridSearchCV(classifier, parameters, cv = 3)\n",
    "clf.fit(X, y)"
   ]
  },
  {
   "cell_type": "code",
   "execution_count": 79,
   "id": "d79aa541",
   "metadata": {},
   "outputs": [
    {
     "data": {
      "text/plain": [
       "{'kernel': 'rbf'}"
      ]
     },
     "execution_count": 79,
     "metadata": {},
     "output_type": "execute_result"
    }
   ],
   "source": [
    "clf.best_params_"
   ]
  },
  {
   "cell_type": "code",
   "execution_count": 80,
   "id": "9d62bac7",
   "metadata": {},
   "outputs": [],
   "source": [
    "classifier = SVC(kernel = 'rbf')\n",
    "classifier.fit(X, y)\n",
    "y_pred = classifier.predict(x_test)"
   ]
  },
  {
   "cell_type": "code",
   "execution_count": 81,
   "id": "c67af915",
   "metadata": {},
   "outputs": [],
   "source": [
    "prediction = pd.DataFrame(y_pred, columns=['predictions']).to_csv('predictionSVC.csv')"
   ]
  },
  {
   "cell_type": "markdown",
   "id": "a6ad3c61",
   "metadata": {},
   "source": [
    "### Gaussian Naive Bayes"
   ]
  },
  {
   "cell_type": "code",
   "execution_count": 82,
   "id": "d19ba2e6",
   "metadata": {},
   "outputs": [],
   "source": [
    "classifier = GaussianNB()\n",
    "classifier.fit(x_train, y_train)\n",
    "y_pred = classifier.predict(x_val)"
   ]
  },
  {
   "cell_type": "code",
   "execution_count": 83,
   "id": "aafc5111",
   "metadata": {},
   "outputs": [
    {
     "data": {
      "text/plain": [
       "array([[86, 24],\n",
       "       [16, 53]], dtype=int64)"
      ]
     },
     "execution_count": 83,
     "metadata": {},
     "output_type": "execute_result"
    }
   ],
   "source": [
    "cm = confusion_matrix(y_val, y_pred)\n",
    "cm"
   ]
  },
  {
   "cell_type": "code",
   "execution_count": 84,
   "id": "81ac101e",
   "metadata": {},
   "outputs": [],
   "source": [
    "classifier = GaussianNB()\n",
    "classifier.fit(X, y)\n",
    "y_pred = classifier.predict(x_test)"
   ]
  },
  {
   "cell_type": "code",
   "execution_count": 85,
   "id": "73e86a1c",
   "metadata": {},
   "outputs": [],
   "source": [
    "prediction = pd.DataFrame(y_pred, columns=['predictions']).to_csv('predictionGNB.csv')"
   ]
  },
  {
   "cell_type": "markdown",
   "id": "d41d70aa",
   "metadata": {},
   "source": [
    "### Logistic Regression"
   ]
  },
  {
   "cell_type": "code",
   "execution_count": 86,
   "id": "bb9f08a7",
   "metadata": {},
   "outputs": [],
   "source": [
    "classifier = LogisticRegression(random_state = 0)\n",
    "classifier.fit(x_train, y_train)\n",
    "y_pred = classifier.predict(x_val)"
   ]
  },
  {
   "cell_type": "code",
   "execution_count": 87,
   "id": "76c0d3b0",
   "metadata": {},
   "outputs": [
    {
     "data": {
      "text/plain": [
       "array([[96, 14],\n",
       "       [23, 46]], dtype=int64)"
      ]
     },
     "execution_count": 87,
     "metadata": {},
     "output_type": "execute_result"
    }
   ],
   "source": [
    "cm = confusion_matrix(y_val, y_pred)\n",
    "cm"
   ]
  },
  {
   "cell_type": "code",
   "execution_count": 88,
   "id": "2af2fbbd",
   "metadata": {},
   "outputs": [
    {
     "data": {
      "text/plain": [
       "array([[ 3.19434984e-04, -7.50525315e-01, -9.51144034e-04,\n",
       "        -1.64850487e+00, -3.36165212e-02, -7.02752294e-01,\n",
       "         6.86281835e-02, -5.45971597e-04,  8.20899815e-03,\n",
       "         3.27869700e-02, -3.33780702e-01,  8.46206549e-02,\n",
       "        -1.64165620e-05, -4.15847941e-01,  1.06899687e-02]])"
      ]
     },
     "execution_count": 88,
     "metadata": {},
     "output_type": "execute_result"
    }
   ],
   "source": [
    "classifier.coef_"
   ]
  },
  {
   "cell_type": "code",
   "execution_count": 89,
   "id": "612ab58b",
   "metadata": {},
   "outputs": [
    {
     "data": {
      "text/plain": [
       "{'C': 1.0,\n",
       " 'class_weight': None,\n",
       " 'dual': False,\n",
       " 'fit_intercept': True,\n",
       " 'intercept_scaling': 1,\n",
       " 'l1_ratio': None,\n",
       " 'max_iter': 100,\n",
       " 'multi_class': 'auto',\n",
       " 'n_jobs': None,\n",
       " 'penalty': 'l2',\n",
       " 'random_state': 0,\n",
       " 'solver': 'lbfgs',\n",
       " 'tol': 0.0001,\n",
       " 'verbose': 0,\n",
       " 'warm_start': False}"
      ]
     },
     "execution_count": 89,
     "metadata": {},
     "output_type": "execute_result"
    }
   ],
   "source": [
    "classifier.get_params()"
   ]
  },
  {
   "cell_type": "code",
   "execution_count": 90,
   "id": "1c004973",
   "metadata": {},
   "outputs": [
    {
     "data": {
      "text/plain": [
       "GridSearchCV(cv=3, estimator=LogisticRegression(),\n",
       "             param_grid={'fit_intercept': [True, False],\n",
       "                         'penalty': ['l1', 'l2']})"
      ]
     },
     "execution_count": 90,
     "metadata": {},
     "output_type": "execute_result"
    }
   ],
   "source": [
    "parameters = {'fit_intercept' : [True, False], 'penalty' : ['l1', 'l2']}\n",
    "classifier = LogisticRegression()\n",
    "clf = GridSearchCV(classifier, parameters, cv = 3)\n",
    "clf.fit(X, y)"
   ]
  },
  {
   "cell_type": "code",
   "execution_count": 91,
   "id": "1d52545b",
   "metadata": {},
   "outputs": [
    {
     "data": {
      "text/plain": [
       "{'fit_intercept': False, 'penalty': 'l2'}"
      ]
     },
     "execution_count": 91,
     "metadata": {},
     "output_type": "execute_result"
    }
   ],
   "source": [
    "clf.best_params_"
   ]
  },
  {
   "cell_type": "code",
   "execution_count": 92,
   "id": "ee6fbc19",
   "metadata": {},
   "outputs": [],
   "source": [
    "classifier = LogisticRegression(fit_intercept = True, penalty = 'l2')\n",
    "classifier.fit(X, y)\n",
    "y_pred = classifier.predict(x_test)"
   ]
  },
  {
   "cell_type": "code",
   "execution_count": 93,
   "id": "06466c41",
   "metadata": {},
   "outputs": [],
   "source": [
    "prediction = pd.DataFrame(y_pred, columns=['predictions']).to_csv('predictionLR.csv')"
   ]
  },
  {
   "cell_type": "markdown",
   "id": "36c0c1d8",
   "metadata": {},
   "source": [
    "### Artificial Neural Networks"
   ]
  },
  {
   "cell_type": "code",
   "execution_count": 94,
   "id": "884ab7e4",
   "metadata": {},
   "outputs": [
    {
     "name": "stdout",
     "output_type": "stream",
     "text": [
      "Epoch 1/20\n",
      "112/112 [==============================] - 1s 1ms/step - loss: 37.0817 - accuracy: 0.4944\n",
      "Epoch 2/20\n",
      "112/112 [==============================] - 0s 1ms/step - loss: 3.2972 - accuracy: 0.6179\n",
      "Epoch 3/20\n",
      "112/112 [==============================] - 0s 1ms/step - loss: 2.7467 - accuracy: 0.6116\n",
      "Epoch 4/20\n",
      "112/112 [==============================] - 0s 1ms/step - loss: 2.5948 - accuracy: 0.6379\n",
      "Epoch 5/20\n",
      "112/112 [==============================] - 0s 1ms/step - loss: 1.7735 - accuracy: 0.6576\n",
      "Epoch 6/20\n",
      "112/112 [==============================] - 0s 1ms/step - loss: 2.0697 - accuracy: 0.6698\n",
      "Epoch 7/20\n",
      "112/112 [==============================] - 0s 1ms/step - loss: 1.9157 - accuracy: 0.5990\n",
      "Epoch 8/20\n",
      "112/112 [==============================] - 0s 1ms/step - loss: 2.0667 - accuracy: 0.6264\n",
      "Epoch 9/20\n",
      "112/112 [==============================] - 0s 1ms/step - loss: 1.8974 - accuracy: 0.6479\n",
      "Epoch 10/20\n",
      "112/112 [==============================] - 0s 1ms/step - loss: 1.7504 - accuracy: 0.6231\n",
      "Epoch 11/20\n",
      "112/112 [==============================] - 0s 1ms/step - loss: 2.1787 - accuracy: 0.6397\n",
      "Epoch 12/20\n",
      "112/112 [==============================] - 0s 1ms/step - loss: 1.4692 - accuracy: 0.6579\n",
      "Epoch 13/20\n",
      "112/112 [==============================] - 0s 1ms/step - loss: 1.3867 - accuracy: 0.6595\n",
      "Epoch 14/20\n",
      "112/112 [==============================] - 0s 1ms/step - loss: 1.4394 - accuracy: 0.6339\n",
      "Epoch 15/20\n",
      "112/112 [==============================] - 0s 1ms/step - loss: 1.2259 - accuracy: 0.6753\n",
      "Epoch 16/20\n",
      "112/112 [==============================] - 0s 1ms/step - loss: 1.5637 - accuracy: 0.6602\n",
      "Epoch 17/20\n",
      "112/112 [==============================] - 0s 1ms/step - loss: 1.3369 - accuracy: 0.6610\n",
      "Epoch 18/20\n",
      "112/112 [==============================] - 0s 1ms/step - loss: 1.2315 - accuracy: 0.7110\n",
      "Epoch 19/20\n",
      "112/112 [==============================] - 0s 1ms/step - loss: 1.0119 - accuracy: 0.7267\n",
      "Epoch 20/20\n",
      "112/112 [==============================] - 0s 1ms/step - loss: 1.0729 - accuracy: 0.7052\n"
     ]
    },
    {
     "data": {
      "text/plain": [
       "<tensorflow.python.keras.callbacks.History at 0x1f8b6194f40>"
      ]
     },
     "execution_count": 94,
     "metadata": {},
     "output_type": "execute_result"
    }
   ],
   "source": [
    "classifier = Sequential()\n",
    "classifier.add(Dense(32, activation = 'relu', input_dim = 15))\n",
    "classifier.add(Dense(16, activation = 'relu'))\n",
    "classifier.add(Dense(1, activation = 'sigmoid'))\n",
    "classifier.compile(optimizer = 'adam', loss = 'binary_crossentropy', metrics = ['accuracy'])\n",
    "classifier.fit(X, y, batch_size = 8, epochs = 20)"
   ]
  },
  {
   "cell_type": "code",
   "execution_count": 95,
   "id": "8e9aec7e",
   "metadata": {},
   "outputs": [],
   "source": [
    "x_test['Name'] = x_test['Name'].astype(int)\n",
    "x_test['Sex'] = x_test['Sex'].astype(int)\n",
    "x_test['Cabin'] = x_test['Cabin'].astype(int)\n",
    "x_test['Embarked'] = x_test['Embarked'].astype(int)\n",
    "x_test['Name'] = x_test['Name'].astype(int)\n",
    "x_test['Surname'] = x_test['Surname'].astype(int)\n",
    "x_test['Ann'] = x_test['Ann'].astype(int)\n",
    "x_test['Ticket'] = x_test['Ticket'].astype(int)\n",
    "x_test['firstletter'] = x_test['firstletter'].astype(int)"
   ]
  },
  {
   "cell_type": "code",
   "execution_count": 96,
   "id": "4e50b557",
   "metadata": {},
   "outputs": [
    {
     "name": "stdout",
     "output_type": "stream",
     "text": [
      "<class 'pandas.core.frame.DataFrame'>\n",
      "RangeIndex: 418 entries, 0 to 417\n",
      "Data columns (total 15 columns):\n",
      " #   Column       Non-Null Count  Dtype  \n",
      "---  ------       --------------  -----  \n",
      " 0   PassengerId  418 non-null    int64  \n",
      " 1   Pclass       418 non-null    int64  \n",
      " 2   Name         418 non-null    int32  \n",
      " 3   Sex          418 non-null    int32  \n",
      " 4   Age          418 non-null    float64\n",
      " 5   SibSp        418 non-null    int64  \n",
      " 6   Parch        418 non-null    int64  \n",
      " 7   Ticket       418 non-null    int32  \n",
      " 8   Fare         418 non-null    float64\n",
      " 9   Cabin        418 non-null    int32  \n",
      " 10  Embarked     418 non-null    int32  \n",
      " 11  Ann          418 non-null    int32  \n",
      " 12  Surname      418 non-null    int32  \n",
      " 13  firstletter  418 non-null    int32  \n",
      " 14  lastno       418 non-null    int64  \n",
      "dtypes: float64(2), int32(8), int64(5)\n",
      "memory usage: 36.0 KB\n"
     ]
    }
   ],
   "source": [
    "x_test.info()"
   ]
  },
  {
   "cell_type": "code",
   "execution_count": 97,
   "id": "7e2745e4",
   "metadata": {},
   "outputs": [],
   "source": [
    "y_pred = classifier.predict(x_test)"
   ]
  },
  {
   "cell_type": "code",
   "execution_count": 98,
   "id": "66aef043",
   "metadata": {},
   "outputs": [
    {
     "data": {
      "text/html": [
       "<div>\n",
       "<style scoped>\n",
       "    .dataframe tbody tr th:only-of-type {\n",
       "        vertical-align: middle;\n",
       "    }\n",
       "\n",
       "    .dataframe tbody tr th {\n",
       "        vertical-align: top;\n",
       "    }\n",
       "\n",
       "    .dataframe thead th {\n",
       "        text-align: right;\n",
       "    }\n",
       "</style>\n",
       "<table border=\"1\" class=\"dataframe\">\n",
       "  <thead>\n",
       "    <tr style=\"text-align: right;\">\n",
       "      <th></th>\n",
       "      <th>PassengerId</th>\n",
       "      <th>Pclass</th>\n",
       "      <th>Name</th>\n",
       "      <th>Sex</th>\n",
       "      <th>Age</th>\n",
       "      <th>SibSp</th>\n",
       "      <th>Parch</th>\n",
       "      <th>Ticket</th>\n",
       "      <th>Fare</th>\n",
       "      <th>Cabin</th>\n",
       "      <th>Embarked</th>\n",
       "      <th>Ann</th>\n",
       "      <th>Surname</th>\n",
       "      <th>firstletter</th>\n",
       "      <th>lastno</th>\n",
       "    </tr>\n",
       "  </thead>\n",
       "  <tbody>\n",
       "    <tr>\n",
       "      <th>0</th>\n",
       "      <td>892</td>\n",
       "      <td>2</td>\n",
       "      <td>382</td>\n",
       "      <td>1</td>\n",
       "      <td>34.500000</td>\n",
       "      <td>0</td>\n",
       "      <td>0</td>\n",
       "      <td>681</td>\n",
       "      <td>7.8292</td>\n",
       "      <td>148</td>\n",
       "      <td>1</td>\n",
       "      <td>11</td>\n",
       "      <td>306</td>\n",
       "      <td>6</td>\n",
       "      <td>6</td>\n",
       "    </tr>\n",
       "    <tr>\n",
       "      <th>1</th>\n",
       "      <td>893</td>\n",
       "      <td>2</td>\n",
       "      <td>799</td>\n",
       "      <td>0</td>\n",
       "      <td>47.000000</td>\n",
       "      <td>1</td>\n",
       "      <td>0</td>\n",
       "      <td>681</td>\n",
       "      <td>7.0000</td>\n",
       "      <td>148</td>\n",
       "      <td>2</td>\n",
       "      <td>12</td>\n",
       "      <td>667</td>\n",
       "      <td>6</td>\n",
       "      <td>6</td>\n",
       "    </tr>\n",
       "    <tr>\n",
       "      <th>2</th>\n",
       "      <td>894</td>\n",
       "      <td>1</td>\n",
       "      <td>799</td>\n",
       "      <td>1</td>\n",
       "      <td>62.000000</td>\n",
       "      <td>0</td>\n",
       "      <td>0</td>\n",
       "      <td>681</td>\n",
       "      <td>9.6875</td>\n",
       "      <td>148</td>\n",
       "      <td>1</td>\n",
       "      <td>11</td>\n",
       "      <td>667</td>\n",
       "      <td>6</td>\n",
       "      <td>6</td>\n",
       "    </tr>\n",
       "    <tr>\n",
       "      <th>3</th>\n",
       "      <td>895</td>\n",
       "      <td>2</td>\n",
       "      <td>25</td>\n",
       "      <td>1</td>\n",
       "      <td>27.000000</td>\n",
       "      <td>0</td>\n",
       "      <td>0</td>\n",
       "      <td>681</td>\n",
       "      <td>8.6625</td>\n",
       "      <td>148</td>\n",
       "      <td>2</td>\n",
       "      <td>11</td>\n",
       "      <td>667</td>\n",
       "      <td>6</td>\n",
       "      <td>6</td>\n",
       "    </tr>\n",
       "    <tr>\n",
       "      <th>4</th>\n",
       "      <td>896</td>\n",
       "      <td>2</td>\n",
       "      <td>799</td>\n",
       "      <td>0</td>\n",
       "      <td>22.000000</td>\n",
       "      <td>1</td>\n",
       "      <td>1</td>\n",
       "      <td>251</td>\n",
       "      <td>12.2875</td>\n",
       "      <td>148</td>\n",
       "      <td>2</td>\n",
       "      <td>12</td>\n",
       "      <td>259</td>\n",
       "      <td>6</td>\n",
       "      <td>6</td>\n",
       "    </tr>\n",
       "    <tr>\n",
       "      <th>...</th>\n",
       "      <td>...</td>\n",
       "      <td>...</td>\n",
       "      <td>...</td>\n",
       "      <td>...</td>\n",
       "      <td>...</td>\n",
       "      <td>...</td>\n",
       "      <td>...</td>\n",
       "      <td>...</td>\n",
       "      <td>...</td>\n",
       "      <td>...</td>\n",
       "      <td>...</td>\n",
       "      <td>...</td>\n",
       "      <td>...</td>\n",
       "      <td>...</td>\n",
       "      <td>...</td>\n",
       "    </tr>\n",
       "    <tr>\n",
       "      <th>413</th>\n",
       "      <td>1305</td>\n",
       "      <td>2</td>\n",
       "      <td>799</td>\n",
       "      <td>1</td>\n",
       "      <td>29.699118</td>\n",
       "      <td>0</td>\n",
       "      <td>0</td>\n",
       "      <td>681</td>\n",
       "      <td>8.0500</td>\n",
       "      <td>148</td>\n",
       "      <td>2</td>\n",
       "      <td>11</td>\n",
       "      <td>667</td>\n",
       "      <td>6</td>\n",
       "      <td>6</td>\n",
       "    </tr>\n",
       "    <tr>\n",
       "      <th>414</th>\n",
       "      <td>1306</td>\n",
       "      <td>0</td>\n",
       "      <td>799</td>\n",
       "      <td>0</td>\n",
       "      <td>39.000000</td>\n",
       "      <td>0</td>\n",
       "      <td>0</td>\n",
       "      <td>611</td>\n",
       "      <td>108.9000</td>\n",
       "      <td>152</td>\n",
       "      <td>0</td>\n",
       "      <td>17</td>\n",
       "      <td>667</td>\n",
       "      <td>2</td>\n",
       "      <td>105</td>\n",
       "    </tr>\n",
       "    <tr>\n",
       "      <th>415</th>\n",
       "      <td>1307</td>\n",
       "      <td>2</td>\n",
       "      <td>799</td>\n",
       "      <td>1</td>\n",
       "      <td>38.500000</td>\n",
       "      <td>0</td>\n",
       "      <td>0</td>\n",
       "      <td>681</td>\n",
       "      <td>7.2500</td>\n",
       "      <td>148</td>\n",
       "      <td>2</td>\n",
       "      <td>11</td>\n",
       "      <td>667</td>\n",
       "      <td>6</td>\n",
       "      <td>6</td>\n",
       "    </tr>\n",
       "    <tr>\n",
       "      <th>416</th>\n",
       "      <td>1308</td>\n",
       "      <td>2</td>\n",
       "      <td>270</td>\n",
       "      <td>1</td>\n",
       "      <td>29.699118</td>\n",
       "      <td>0</td>\n",
       "      <td>0</td>\n",
       "      <td>681</td>\n",
       "      <td>8.0500</td>\n",
       "      <td>148</td>\n",
       "      <td>2</td>\n",
       "      <td>11</td>\n",
       "      <td>667</td>\n",
       "      <td>6</td>\n",
       "      <td>6</td>\n",
       "    </tr>\n",
       "    <tr>\n",
       "      <th>417</th>\n",
       "      <td>1309</td>\n",
       "      <td>2</td>\n",
       "      <td>799</td>\n",
       "      <td>1</td>\n",
       "      <td>29.699118</td>\n",
       "      <td>1</td>\n",
       "      <td>1</td>\n",
       "      <td>196</td>\n",
       "      <td>22.3583</td>\n",
       "      <td>148</td>\n",
       "      <td>0</td>\n",
       "      <td>7</td>\n",
       "      <td>482</td>\n",
       "      <td>6</td>\n",
       "      <td>6</td>\n",
       "    </tr>\n",
       "  </tbody>\n",
       "</table>\n",
       "<p>418 rows × 15 columns</p>\n",
       "</div>"
      ],
      "text/plain": [
       "     PassengerId  Pclass  Name  Sex        Age  SibSp  Parch  Ticket  \\\n",
       "0            892       2   382    1  34.500000      0      0     681   \n",
       "1            893       2   799    0  47.000000      1      0     681   \n",
       "2            894       1   799    1  62.000000      0      0     681   \n",
       "3            895       2    25    1  27.000000      0      0     681   \n",
       "4            896       2   799    0  22.000000      1      1     251   \n",
       "..           ...     ...   ...  ...        ...    ...    ...     ...   \n",
       "413         1305       2   799    1  29.699118      0      0     681   \n",
       "414         1306       0   799    0  39.000000      0      0     611   \n",
       "415         1307       2   799    1  38.500000      0      0     681   \n",
       "416         1308       2   270    1  29.699118      0      0     681   \n",
       "417         1309       2   799    1  29.699118      1      1     196   \n",
       "\n",
       "         Fare  Cabin  Embarked  Ann  Surname  firstletter  lastno  \n",
       "0      7.8292    148         1   11      306            6       6  \n",
       "1      7.0000    148         2   12      667            6       6  \n",
       "2      9.6875    148         1   11      667            6       6  \n",
       "3      8.6625    148         2   11      667            6       6  \n",
       "4     12.2875    148         2   12      259            6       6  \n",
       "..        ...    ...       ...  ...      ...          ...     ...  \n",
       "413    8.0500    148         2   11      667            6       6  \n",
       "414  108.9000    152         0   17      667            2     105  \n",
       "415    7.2500    148         2   11      667            6       6  \n",
       "416    8.0500    148         2   11      667            6       6  \n",
       "417   22.3583    148         0    7      482            6       6  \n",
       "\n",
       "[418 rows x 15 columns]"
      ]
     },
     "execution_count": 98,
     "metadata": {},
     "output_type": "execute_result"
    }
   ],
   "source": [
    "x_test"
   ]
  },
  {
   "cell_type": "code",
   "execution_count": 99,
   "id": "92ce8d78",
   "metadata": {},
   "outputs": [],
   "source": [
    "for i in range (0, len(y_pred)):\n",
    "    if y_pred[i] >= 0.5:\n",
    "        y_pred[i] = 1\n",
    "    else:\n",
    "        y_pred[i] = 0"
   ]
  },
  {
   "cell_type": "code",
   "execution_count": 100,
   "id": "dd782259",
   "metadata": {},
   "outputs": [],
   "source": [
    "prediction = pd.DataFrame(y_pred, columns=['predictions']).to_csv('predictionANN.csv')"
   ]
  }
 ],
 "metadata": {
  "kernelspec": {
   "display_name": "Python 3 (ipykernel)",
   "language": "python",
   "name": "python3"
  },
  "language_info": {
   "codemirror_mode": {
    "name": "ipython",
    "version": 3
   },
   "file_extension": ".py",
   "mimetype": "text/x-python",
   "name": "python",
   "nbconvert_exporter": "python",
   "pygments_lexer": "ipython3",
   "version": "3.8.10"
  }
 },
 "nbformat": 4,
 "nbformat_minor": 5
}
